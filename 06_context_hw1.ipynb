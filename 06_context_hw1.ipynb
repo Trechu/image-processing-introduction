{
 "cells": [
  {
   "cell_type": "markdown",
   "metadata": {
    "collapsed": true,
    "id": "ofg6rTf3uvP0",
    "jupyter": {
     "outputs_hidden": true
    },
    "pycharm": {
     "name": "#%% md\n"
    }
   },
   "source": [
    "# Mediana dla obrazu kolorowego\n",
    "\n",
    "Idea filtracji medianowej jest dość prosta dla obrazów w odcieniach szarości.\n",
    "Dla obrazów kolorowych trudniej jest określić kryterium wg. którego szeregowane będą wartości, z których wyznaczana będzie mediana.\n",
    "\n",
    "Jedną z możliwości wykonania filtracji medianowej dla obrazów kolorowych (na podstawie *The Image Processing Handbook*, J. Russ) jest wykorzystanie następującej definicji mediany:\n",
    "``mediana to ten piksel z otoczenia, którego odległość do innych pikseli z otoczenia jest najmniejsza''.\n",
    "Jako miarę odległości wykorzystujemy pierwiastek z sumy kwadratów różnic poszczególnych składowych R,G,B.\n",
    "Zatem odległość między dwoma pikselami wyraża się wzorem:\n",
    "\\begin{equation}\n",
    "dRGB = \\sqrt{(R_1-R_2)^2+(G_1-G_2)^2+(B_1-B_2)^2}\n",
    "\\end{equation}\n",
    "\n",
    "Warto zwrócić uwagę, że istnieje wiele możliwości zdefiniowania porównywania wielkości wektorowych (jeden piksel to wektor o trzech składowych).\n",
    "Można zamiast odległości wykorzystać kąt albo połączyć oba parametry.\n",
    "Ponadto istnieje możliwość dodania do wektora dodatkowych składowych - tak aby lepiej opisać piksel.\n",
    "\n",
    "Celem zadania jest implementacja opisanego algorytmu.\n",
    "\n",
    "1. Wczytaj obraz *lenaRGBSzum.png* (dostępny na git).\n",
    "2. Zdefiniuj rozmiar okna.\n",
    "3. Wykonaj pętle po pikselach, dla których okno jest zdefiniowane (pomiń brzeg obrazu).\n",
    "4. Dla każdego piksela pobierz okno o właściwym rozmiarze.\n",
    "5. Wykonaj pętle po oknie, wewnątrz której obliczona zostanie suma odległości.\n",
    "    - Obliczanie różnicy: `window - window[rowWin, colWin]`.\n",
    "    - Obliczanie kwadratów: `np.square`.\n",
    "    - Obliczanie pierwiastka: `np.sqrt`.\n",
    "    - Obliczanie sumy metodą `.sum`.\n",
    "6. Po obliczeniu macierzy odległości wyznacz argument elementu minimalnego.\n",
    "Wykorzystaj funkcję `np.argmin`.\n",
    "Argument funkcji zostanie spłaszczony, jeśli ma więcej niż jeden wymiar.\n",
    "Aby przekonwertować spłaszczony indeks na indeks macierzy wykorzystaj funkcję `np.unravel_index`.\n",
    "7. Przypisz odpowiedni wektor wartości do piksela obrazu wynikowego.\n",
    "8. Wyświetl obraz oryginalny i przefiltrowany.\n",
    "9. Przeprowadź dwa eksperymenty - dla obrazu _lenaRGB_ oraz _lenaRGBszum_."
   ]
  },
  {
   "cell_type": "code",
   "execution_count": null,
   "metadata": {
    "execution": {
     "iopub.execute_input": "2025-01-21T14:16:00.281959Z",
     "iopub.status.busy": "2025-01-21T14:16:00.280961Z",
     "iopub.status.idle": "2025-01-21T14:16:00.290026Z",
     "shell.execute_reply": "2025-01-21T14:16:00.288984Z",
     "shell.execute_reply.started": "2025-01-21T14:16:00.281959Z"
    },
    "id": "scIf0MPVuvP7",
    "pycharm": {
     "name": "#%% Mediana dla obrazu kolorowego\n"
    }
   },
   "outputs": [],
   "source": [
    "import cv2\n",
    "import os\n",
    "import requests\n",
    "from matplotlib import pyplot as plt\n",
    "import numpy as np\n",
    "from scipy import signal\n",
    "\n",
    "url = 'https://raw.githubusercontent.com/vision-agh/poc_sw/master/06_Context/'\n",
    "\n",
    "fileNames = [\"lenaRGB.png\", \"lenaRGBSzum.png\"]\n",
    "for fileName in fileNames:\n",
    "  if not os.path.exists(fileName):\n",
    "      r = requests.get(url + fileName, allow_redirects=True)\n",
    "      open(fileName, 'wb').write(r.content)"
   ]
  },
  {
   "cell_type": "code",
   "execution_count": null,
   "metadata": {
    "execution": {
     "iopub.execute_input": "2025-01-21T15:13:02.760362Z",
     "iopub.status.busy": "2025-01-21T15:13:02.759364Z",
     "iopub.status.idle": "2025-01-21T15:13:10.543172Z",
     "shell.execute_reply": "2025-01-21T15:13:10.541846Z",
     "shell.execute_reply.started": "2025-01-21T15:13:02.760362Z"
    }
   },
   "outputs": [],
   "source": [
    "lena_rgb_szum = cv2.imread('lenaRGBSzum.png')\n",
    "lena_rgb_szum = cv2.cvtColor(lena_rgb_szum,cv2.COLOR_BGR2RGB)\n",
    "lena_rgb = cv2.imread('lenaRGB.png')\n",
    "lena_rgb = cv2.cvtColor(lena_rgb,cv2.COLOR_BGR2RGB)\n",
    "\n",
    "def RGB_median(image, size):\n",
    "    out_image = image.copy()\n",
    "    for i in range((size-1)//2, image.shape[0] - (size-1)//2):\n",
    "        for j in range((size-1)//2, image.shape[1] - (size-1)//2):\n",
    "            \n",
    "            window = (image[i-(size-1)//2:i+(size-1)//2+1, j-(size-1)//2:j+(size-1)//2+1]).astype(float)\n",
    "            \n",
    "            mtrx = np.zeros((size,size))\n",
    "            \n",
    "            for rowWin in range(size):\n",
    "                for colWin in range(size):\n",
    "                    mtrx[rowWin, colWin] = np.sqrt(np.sum(np.square(window - window[rowWin, colWin])))\n",
    "                      \n",
    "            indices = np.unravel_index(np.argmin(mtrx), (size,size))\n",
    "            \n",
    "            out_image[i, j] = window[indices[0], indices[1]]\n",
    "    \n",
    "    return out_image\n",
    "            \n",
    "res = RGB_median(lena_rgb_szum, 3)"
   ]
  },
  {
   "cell_type": "code",
   "execution_count": null,
   "metadata": {
    "execution": {
     "iopub.execute_input": "2025-01-21T15:13:10.546185Z",
     "iopub.status.busy": "2025-01-21T15:13:10.545182Z",
     "iopub.status.idle": "2025-01-21T15:13:11.334669Z",
     "shell.execute_reply": "2025-01-21T15:13:11.333658Z",
     "shell.execute_reply.started": "2025-01-21T15:13:10.546185Z"
    }
   },
   "outputs": [],
   "source": [
    "def plot_img(img, title=''):\n",
    "    plt.figure(figsize=(img.shape[0]/30,img.shape[1]/30))\n",
    "    plt.imshow(img, vmin=0, vmax=255)\n",
    "    plt.axis('off')\n",
    "    plt.title(title)\n",
    "    plt.show()\n",
    "    \n",
    "plot_img(lena_rgb_szum)\n",
    "plot_img(res)"
   ]
  },
  {
   "cell_type": "code",
   "execution_count": null,
   "metadata": {
    "execution": {
     "iopub.execute_input": "2025-01-21T14:16:20.752082Z",
     "iopub.status.busy": "2025-01-21T14:16:20.752082Z",
     "iopub.status.idle": "2025-01-21T14:17:26.037802Z",
     "shell.execute_reply": "2025-01-21T14:17:26.037802Z",
     "shell.execute_reply.started": "2025-01-21T14:16:20.752082Z"
    }
   },
   "outputs": [],
   "source": [
    "res1 = RGB_median(lena_rgb, 9)\n",
    "plot_img(lena_rgb)\n",
    "plot_img(res1)"
   ]
  }
 ],
 "metadata": {
  "colab": {
   "collapsed_sections": [],
   "provenance": []
  },
  "kernelspec": {
   "display_name": "Python 3 (ipykernel)",
   "language": "python",
   "name": "python3"
  },
  "language_info": {
   "codemirror_mode": {
    "name": "ipython",
    "version": 3
   },
   "file_extension": ".py",
   "mimetype": "text/x-python",
   "name": "python",
   "nbconvert_exporter": "python",
   "pygments_lexer": "ipython3",
   "version": "3.11.11"
  }
 },
 "nbformat": 4,
 "nbformat_minor": 4
}
