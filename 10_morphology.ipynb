{
 "cells": [
  {
   "cell_type": "markdown",
   "metadata": {
    "id": "NnDX1AhkKHGr"
   },
   "source": [
    "# Przekształcenia morfologiczne\n",
    "\n",
    "## Cel:\n",
    "- zapoznanie z podstawowymi przekształceniami morfologicznymi – erozją, dylatacją, otwarciem, zamknięciem, transformacją trafi, nie trafi,\n",
    "- zapoznanie ze złożonymi operacjami morfologicznymi wykorzystującymi rekonstrukcję morfologiczną,\n",
    "- zapoznanie z operacjami morfologicznym dla obrazów w odcieniach szarości – erozją, dylatacją, otwarciem, zamknięciem, filtrami top-hat i bottom-hat,\n",
    "- zapoznanie z wykorzystaniem złożonych operacji morfologicznych przy rozwiązywaniu konkretnego problemu,\n",
    "- zadanie domowe: wykorzystanie morfologii do implementacji ,,gry w życie''."
   ]
  },
  {
   "cell_type": "markdown",
   "metadata": {
    "id": "CbPVOPm8KHGx"
   },
   "source": [
    "## Przypomnienie teorii\n",
    "\n",
    "### Element strukturalny\n",
    "\n",
    "Element strukturalny obrazu jest to pewien wycinek obrazu (przy dyskretnej reprezentacji obrazu – pewien podzbiór jego elementów).\n",
    "Najczęściej stosowanym elementem strukturalnym jest kwadratowa maska o rozmiarze 3×3 lub 5×5. Niekiedy pożądane są maski o innym kształcie, np. zbliżonym do elipsy.\n",
    "\n",
    "### Erozja\n",
    "\n",
    "Erozja (ang. _erosion_) jest podstawowym przekształceniem morfologicznym.\n",
    "Zakładamy, że obraz wyjściowy zawiera pewien obszar (figurę) X, wyróżniający się pewną charakterystyczną cechą (np. odróżniającą się od tła jasnością).\n",
    "Figura X po wykonaniu operacji erozji to zbiór punktów centralnych wszystkich elementów strukturalnych, które w całości mieszczą się we wnętrzu obszaru X.\n",
    "Miarą stopnia erozji jest wielkość elementu strukturalnego.\n",
    "\n",
    "**Erozję** można traktować jako **filtr minimalny**, tj. z danego otoczenia piksela (określanego przez maskę) do obrazu wynikowego wybierana jest wartość minimalna.\n",
    "\n",
    "### Dylatacja\n",
    "\n",
    "Dylatacja (ang. _dilation_): Zakładamy, że obraz wejściowy zawiera obszar X wyróżniający się pewną charakterystyczną cechą (np. jasnością). Figura przekształcona przez dylatacje to zbiór punktów centralnych wszystkich elementów strukturalnych, których którykolwiek punkt mieści sie we wnętrzu obszaru X. Miarą  dylatacji jest wielkość elementu strukturalnego.\n",
    "\n",
    "**Dylatację** można traktować jako **filtr maksymalny**, tj. z danego otoczenia piksela (określanego\n",
    "przez maskę) do obrazu wynikowego wybierana jest wartość maksymalna.\n",
    "\n",
    "### Otwarcie i zamknięcie\n",
    "\n",
    "Otwarcie (ang. _opening_) polega na wykonaniu najpierw operacji erozji, a następnie dylatacji.\n",
    "\n",
    "> Otwarcie = erozja + dylatacja\n",
    "\n",
    "Zamkniecie (ang. _closing_) polega na wykonaniu najpierw operacji dylatacji, a następnie erozji.\n",
    "\n",
    "> Zamkniecie = dylatacja + erozja\n",
    "\n",
    "### Obrazy w odcieniu szarości\n",
    "\n",
    "Obrazy w odcieniu szarości – detekcja dolin i szczytów (ang. _top-hat_, _bottom-hat_):\n",
    "\n",
    "Aby wyodrębnić z obrazu lokalne ekstrema można wykorzystać zdefiniowane wcześniej przekształcenia: otwarcie i zamkniecie.\n",
    "W celu wyszukania lokalnych maksimów (szczytów) należy od wyniku otwarcia danego obrazu odjąć obraz wyjściowy.\n",
    "Analogicznie, aby wyodrębnić lokalne minima obrazu, należy dokonać podobnej operacji, z tym że pierwszą operacją bedzie zamknięcie.\n",
    "Uwaga! Należy zwrócić uwagę, że poniższe metody służą do detekcji (pokreślenia) tylko lokalnych ekstremów!"
   ]
  },
  {
   "cell_type": "markdown",
   "metadata": {
    "id": "_mWYIIJBKHGz"
   },
   "source": [
    "## Podstawowe operacje morfologiczne: erozja, dylatacja, otwarcie, zamknięcie, trafi nie trafi\n",
    "\n",
    "1. Wczytaj obraz ertka.bmp\n",
    "2. Wykonaj operację erozji `cv2.erode`. Parametrami funkcji są obraz oraz element strukturalny. Element można stworzyć samodzielnie jako tablicę składającą się z 0 i 1 `np.ones((3,3))` lub posłużyć się funkcją `cv2.getStructuringElement`, do której należy podać kształt `cv2.MORPH_RECT` oraz wielkość elementu `(3,3)`. Na początku użyj kwadratu o rozmiarze 3 pikseli.\n",
    "3. Wyświetl obraz oryginalny oraz po wykonaniu erozji – najlepiej na wspólnym wykresie. Upewnij się, że rozumiesz, jak działa erozja.\n",
    "4. Zmień element strukturalny (inny kształt – koło, diament lub inny rozmiar). Ponownie wykonaj erozję, sprawdź rezultat działania operacji.\n",
    "5. Oprócz zmiany elementu strukturalnego na rezultat erozji można wpłynąć zwiększając liczbę iteracji (np. wykonać erozję trzykrotnie). Ustal element strukturalny na kwadrat o boku 3 piksele. Wykonaj erozję obrazu _ertka_ dwukrotnie, a następnie trzykrotnie. Zaobserwuj rezultaty. Wskazówka: warto zajrzeć do dokumentacji funkcji `erode`.\n",
    "6. Wczytaj obraz buzka.bmp. Dobierz element strukturalny (zdefiniuj go ręcznie jako macierz 0 i 1) w taki sposób, aby usunąć włosy o określonej orientacji (ukośnie lewo lub prawo).\n",
    "7. Uwaga: pokazane metody wpływania na rezultaty erozji wykorzystuje się identycznie dla pozostałych operacji morfologicznych – dylatacji, otwarcia i zamknięcia.\n",
    "8. Operacją odwrotną do erozji jest dylatacja `cv2.dilate`. Ustal element strukturalny na kwadrat o boku 3 piksele. Wykonaj dylatację obrazu _ertka_. Zapoznaj się z rezultatem działania.\n",
    "9. Na wspólnym wykresie wyświetl obraz oryginalny oraz obrazy po operacjach morfologicznych: erozja, dylatacja, otwarcie i zamkniecie. Otwarcie i zamknięcie można uzyskać za pomocą `cv2.morphologyEx(img, operacja, element_strukturalny)`, gdzie typem operacji jest `cv2.MORPH_OPEN` lub `cv2.MORPH_CLOSE`.\n",
    "10. Zmień obraz _ertka_ na _wyspa_, a następnie na _kolka_. Wykonaj na każdym cztery przedstawione operacje morfologiczne. Zaobserwuj rezultaty.\n",
    "11. Minizadanko: wykorzystując poznane operacje morfologiczne spowoduj, że na obrazie _ertka_ pozostanie tylko napis RT (bez wypustek i dziur).\n",
    "12. Niekiedy potrzebne jest wykrycie konkretnych konfiguracji pikseli na obrazie – przydaje się do tego transformacja trafi, nie trafi (ang. _hit-or-miss_). Pozwala ona wykryć na obrazie obecność elementów, które dokładnie odpowiadają masce.\n",
    "13. Wczytaj obraz hom.bmp. Wyświetl go. Załóżmy, że chcemy wykryć na obrazie krzyżyki 3x3. Zdefiniuj następujący element strukturalny:\n",
    "```\n",
    "[0,1,0]\n",
    "[1,1,1]\n",
    "[0,1,0]\n",
    "```\n",
    "Wykonaj transformację trafi, nie trafi – `cv2.morphologyEx(hom, cv2.MORPH_HITMISS, se1)`. Rezultat operacji wyświetl. Czy udało się zrealizować zadanie? Jeżeli pojawiają się u Państwa błędy związane z typem danych, należy obraz wejściowy przekonwertować na skalę szarości: `cv2.cvtColor(hom, cv2.COLOR_BGR2GRAY)`.\n"
   ]
  },
  {
   "cell_type": "code",
   "execution_count": null,
   "metadata": {
    "id": "r375Q-2bKHG1"
   },
   "outputs": [],
   "source": [
    "import matplotlib.pyplot as plt\n",
    "import cv2\n",
    "import numpy as np\n",
    "import os\n",
    "import requests\n",
    "\n",
    "url = 'https://raw.githubusercontent.com/vision-agh/poc_sw/master/10_Morphology/'\n",
    "\n",
    "fileNames = [\"buzka.bmp\", \"calculator.bmp\", \"ertka.bmp\", \"ferrari.bmp\", \"fingerprint.bmp\", \"hom.bmp\", \"kolka.bmp\", \"kosc.bmp\", \"szkielet.bmp\", \"text.bmp\", \"wyspa.bmp\", \"rice.png\", \"gra.py\"]\n",
    "for fileName in fileNames:\n",
    "  if not os.path.exists(fileName):\n",
    "      r = requests.get(url + fileName, allow_redirects=True)\n",
    "      open(fileName, 'wb').write(r.content)\n"
   ]
  },
  {
   "cell_type": "code",
   "execution_count": null,
   "metadata": {},
   "outputs": [],
   "source": [
    "img = cv2.imread(\"ertka.bmp\")\n",
    "img = cv2.cvtColor(img, cv2.COLOR_BGR2GRAY)\n",
    "img_eroded = cv2.erode(img, cv2.getStructuringElement(cv2.MORPH_RECT, (3,3)))\n",
    "\n",
    "fig, axs = plt.subplots(1,2)\n",
    "fig.set_size_inches(15, 8)\n",
    "axs[0].axis('off')\n",
    "axs[1].axis('off')\n",
    "axs[0].set_title(\"Obraz przed erozją\")\n",
    "axs[1].set_title(\"Obraz po erozji\")\n",
    "axs[0].imshow(img, 'gray')\n",
    "axs[1].imshow(img_eroded, 'gray')"
   ]
  },
  {
   "cell_type": "code",
   "execution_count": null,
   "metadata": {},
   "outputs": [],
   "source": [
    "img_eroded_diamond = cv2.erode(img, cv2.getStructuringElement(cv2.MORPH_ELLIPSE, (3,3)))\n",
    "\n",
    "fig, axs = plt.subplots(1,2)\n",
    "fig.set_size_inches(15, 8)\n",
    "axs[0].axis('off')\n",
    "axs[1].axis('off')\n",
    "axs[0].set_title(\"Obraz przed erozją\")\n",
    "axs[1].set_title(\"Obraz po erozji\")\n",
    "axs[0].imshow(img, 'gray')\n",
    "axs[1].imshow(img_eroded_diamond, 'gray')"
   ]
  },
  {
   "cell_type": "code",
   "execution_count": null,
   "metadata": {},
   "outputs": [],
   "source": [
    "img_eroded_twice = cv2.erode(cv2.erode(img, cv2.getStructuringElement(cv2.MORPH_RECT, (3,3))), cv2.getStructuringElement(cv2.MORPH_RECT, (3,3)))\n",
    "img_eroded_thrice = cv2.erode(cv2.erode(cv2.erode(img, cv2.getStructuringElement(cv2.MORPH_RECT, (3,3))), cv2.getStructuringElement(cv2.MORPH_RECT, (3,3))), cv2.getStructuringElement(cv2.MORPH_RECT, (3,3)))\n",
    "\n",
    "fig, axs = plt.subplots(1,3)\n",
    "fig.set_size_inches(15, 8)\n",
    "axs[0].axis('off')\n",
    "axs[1].axis('off')\n",
    "axs[2].axis('off')\n",
    "axs[0].set_title(\"Obraz przed erozją\")\n",
    "axs[1].set_title(\"Obraz po erozji dwukrotnej\")\n",
    "axs[2].set_title(\"Obraz po erozji trzykrotnej\")\n",
    "axs[0].imshow(img, 'gray')\n",
    "axs[1].imshow(img_eroded_twice, 'gray')\n",
    "axs[2].imshow(img_eroded_thrice, 'gray')"
   ]
  },
  {
   "cell_type": "code",
   "execution_count": null,
   "metadata": {},
   "outputs": [],
   "source": [
    "img1 = cv2.imread(\"buzka.bmp\")\n",
    "img1 = cv2.cvtColor(img1, cv2.COLOR_BGR2GRAY)\n",
    "kernel = np.ones((3,3), np.uint8)\n",
    "kernel[0,2] = 0\n",
    "kernel[0,1] = 0\n",
    "kernel[1,0] = 0\n",
    "kernel[1,2] = 0\n",
    "kernel[2,0] = 0\n",
    "kernel[2,1] = 0\n",
    "print(kernel)\n",
    "img1_eroded = cv2.erode(img1, kernel)\n",
    "\n",
    "fig, axs = plt.subplots(1,2)\n",
    "fig.set_size_inches(15, 8)\n",
    "axs[0].axis('off')\n",
    "axs[1].axis('off')\n",
    "axs[0].set_title(\"Obraz przed erozją\")\n",
    "axs[1].set_title(\"Obraz po usunięciu włosów zortientowanych w prawo\")\n",
    "axs[0].imshow(img1, 'gray')\n",
    "axs[1].imshow(img1_eroded, 'gray')"
   ]
  },
  {
   "cell_type": "code",
   "execution_count": null,
   "metadata": {},
   "outputs": [],
   "source": [
    "img_dilated = cv2.dilate(img, cv2.getStructuringElement(cv2.MORPH_RECT, (3,3)))\n",
    "\n",
    "fig, axs = plt.subplots(1,2)\n",
    "fig.set_size_inches(15, 8)\n",
    "axs[0].axis('off')\n",
    "axs[1].axis('off')\n",
    "axs[0].set_title(\"Obraz przed dylatacją\")\n",
    "axs[1].set_title(\"Obraz po dylatacji\")\n",
    "axs[0].imshow(img, 'gray')\n",
    "axs[1].imshow(img_dilated, 'gray')"
   ]
  },
  {
   "cell_type": "code",
   "execution_count": null,
   "metadata": {},
   "outputs": [],
   "source": [
    "fig, axs = plt.subplots(1,5)\n",
    "fig.set_size_inches(15, 8)\n",
    "axs[0].axis('off')\n",
    "axs[1].axis('off')\n",
    "axs[2].axis('off')\n",
    "axs[3].axis('off')\n",
    "axs[4].axis('off')\n",
    "axs[0].set_title(\"Obraz oryginalny\")\n",
    "axs[1].set_title(\"Obraz po erozji\")\n",
    "axs[2].set_title(\"Obraz po dylatacji\")\n",
    "axs[3].set_title(\"Obraz po otwarciu\")\n",
    "axs[4].set_title(\"Obraz po zamknięciu\")\n",
    "axs[0].imshow(img, 'gray')\n",
    "axs[1].imshow(img_eroded, 'gray')\n",
    "axs[2].imshow(img_dilated, 'gray')\n",
    "axs[3].imshow(cv2.morphologyEx(img, cv2.MORPH_OPEN, cv2.getStructuringElement(cv2.MORPH_RECT, (3,3))), 'gray')\n",
    "axs[4].imshow(cv2.morphologyEx(img, cv2.MORPH_CLOSE, cv2.getStructuringElement(cv2.MORPH_RECT, (3,3))), 'gray')"
   ]
  },
  {
   "cell_type": "code",
   "execution_count": null,
   "metadata": {},
   "outputs": [],
   "source": [
    "img2 = cv2.imread(\"wyspa.bmp\")\n",
    "img2 = cv2.cvtColor(img2, cv2.COLOR_BGR2GRAY)\n",
    "fig, axs = plt.subplots(1,5)\n",
    "fig.set_size_inches(15, 8)\n",
    "axs[0].axis('off')\n",
    "axs[1].axis('off')\n",
    "axs[2].axis('off')\n",
    "axs[3].axis('off')\n",
    "axs[4].axis('off')\n",
    "axs[0].set_title(\"Obraz oryginalny\")\n",
    "axs[1].set_title(\"Obraz po erozji\")\n",
    "axs[2].set_title(\"Obraz po dylatacji\")\n",
    "axs[3].set_title(\"Obraz po otwarciu\")\n",
    "axs[4].set_title(\"Obraz po zamknięciu\")\n",
    "axs[0].imshow(img2, 'gray')\n",
    "axs[1].imshow(cv2.erode(img2, cv2.getStructuringElement(cv2.MORPH_RECT, (3,3))), 'gray')\n",
    "axs[2].imshow(cv2.dilate(img2, cv2.getStructuringElement(cv2.MORPH_RECT, (3,3))), 'gray')\n",
    "axs[3].imshow(cv2.morphologyEx(img2, cv2.MORPH_OPEN, cv2.getStructuringElement(cv2.MORPH_RECT, (3,3))), 'gray')\n",
    "axs[4].imshow(cv2.morphologyEx(img2, cv2.MORPH_CLOSE, cv2.getStructuringElement(cv2.MORPH_RECT, (3,3))), 'gray')"
   ]
  },
  {
   "cell_type": "code",
   "execution_count": null,
   "metadata": {},
   "outputs": [],
   "source": [
    "img3 = cv2.imread(\"kolka.bmp\")\n",
    "img3 = cv2.cvtColor(img3, cv2.COLOR_BGR2GRAY)\n",
    "fig, axs = plt.subplots(1,5)\n",
    "fig.set_size_inches(15, 8)\n",
    "axs[0].axis('off')\n",
    "axs[1].axis('off')\n",
    "axs[2].axis('off')\n",
    "axs[3].axis('off')\n",
    "axs[4].axis('off')\n",
    "axs[0].set_title(\"Obraz oryginalny\")\n",
    "axs[1].set_title(\"Obraz po erozji\")\n",
    "axs[2].set_title(\"Obraz po dylatacji\")\n",
    "axs[3].set_title(\"Obraz po otwarciu\")\n",
    "axs[4].set_title(\"Obraz po zamknięciu\")\n",
    "axs[0].imshow(img3, 'gray')\n",
    "axs[1].imshow(cv2.erode(img3, cv2.getStructuringElement(cv2.MORPH_RECT, (3,3))), 'gray')\n",
    "axs[2].imshow(cv2.dilate(img3, cv2.getStructuringElement(cv2.MORPH_RECT, (3,3))), 'gray')\n",
    "axs[3].imshow(cv2.morphologyEx(img3, cv2.MORPH_OPEN, cv2.getStructuringElement(cv2.MORPH_RECT, (3,3))), 'gray')\n",
    "axs[4].imshow(cv2.morphologyEx(img3, cv2.MORPH_CLOSE, cv2.getStructuringElement(cv2.MORPH_RECT, (3,3))), 'gray')"
   ]
  },
  {
   "cell_type": "code",
   "execution_count": null,
   "metadata": {},
   "outputs": [],
   "source": [
    "# MINI ZADANIE\n",
    "img_fixed = cv2.morphologyEx(cv2.morphologyEx(img, cv2.MORPH_OPEN, cv2.getStructuringElement(cv2.MORPH_RECT, (3,3))), cv2.MORPH_CLOSE, cv2.getStructuringElement(cv2.MORPH_RECT, (3,3)))\n",
    "fig, axs = plt.subplots(1,1)\n",
    "fig.set_size_inches(15, 8)\n",
    "axs.axis('off')\n",
    "axs.imshow(img_fixed, 'gray')"
   ]
  },
  {
   "cell_type": "markdown",
   "metadata": {},
   "source": [
    "### Aby uzyskać ten efekt należy wykonać operację zamknięcia oraz otwarcia na zmianę "
   ]
  },
  {
   "cell_type": "code",
   "execution_count": null,
   "metadata": {},
   "outputs": [],
   "source": [
    "img4 = cv2.imread(\"hom.bmp\")\n",
    "img4 = cv2.cvtColor(img4, cv2.COLOR_BGR2GRAY)\n",
    "fig, axs = plt.subplots(1,2)\n",
    "fig.set_size_inches(15, 8)\n",
    "kernel1 = np.ones((3,3), np.uint8)\n",
    "kernel1[0,0] = 0\n",
    "kernel1[2,0] = 0\n",
    "kernel1[0,2] = 0\n",
    "kernel1[2,2] = 0\n",
    "axs[0].axis('off')\n",
    "axs[1].axis('off')\n",
    "axs[0].set_title(\"Obraz orygnialny\")\n",
    "axs[1].set_title(\"Obraz po operacji\")\n",
    "axs[0].imshow(img4, 'gray')\n",
    "axs[1].imshow(cv2.morphologyEx(img4, cv2.MORPH_HITMISS, kernel1), 'gray')"
   ]
  },
  {
   "cell_type": "markdown",
   "metadata": {},
   "source": [
    "#### Udało się poprawnie zidentyfikować środki krzyżyków, jednak znaleźliśmy też środek kwadratu 3x3 bo taki też zawiera chciany krzyż"
   ]
  },
  {
   "cell_type": "markdown",
   "metadata": {
    "id": "QgLQKgtvKHG2"
   },
   "source": [
    "## Inne operacje morfologiczne\n",
    "Do innych operacji morfologicznych należą między innymi ścienianie (ang. _thinning_), szkieletyzacja (ang. _skeletonization_), rekonstrukcja morfologiczna (ang. _morphological reconstruction_), czyszczenie brzegu (ang. _clearing border_) i uzupełnianie dziur (ang. _filling holes_). W tym rozdziale zostanie zaprezentowana rekonstrukcja morfologiczna.\n",
    "\n",
    "Rekonstrukcja morfologiczna jest operacją trójargumentową. Wymaga podania markera (obrazu, od którego zacznie się transformacja), maski (ograniczenia transformacji) oraz elementu strukturalnego. Operacja polega na wykonywaniu kroków (dopóki w dwóch kolejnych iteracjach nic się nie zmieni):\n",
    "- dylatacja obrazu markera (z danym elementem strukturalnym),\n",
    "- nowy marker = część wspólna dylatacji starego markera i maski.\n",
    "\n",
    "Trzy operacje, które wykorzystują schemat rekonstrukcji to:\n",
    "- otwarcie poprzez rekonstrukcję,\n",
    "- wypełnianie dziur,\n",
    "- czyszczenie brzegu.\n",
    "\n",
    "### Otwarcie poprzez rekonstrukcję:\n",
    "- Wczytaj obraz text.bmp, wyświetl go.\n",
    "- Załóżmy, że chcemy wykryć na obrazie litery, które zawierają długie pionowe fragmenty. W pierwszym podejściu stosujemy morfologiczne otwarcie z maską pionową o wysokości 51 pikseli (taka jest średnia wysokość liter na obrazie – `np.ones((51,1))`. Sprawdź rezultat takiej operacji.\n",
    "- Detekcja wprawdzie sie udała, ale otrzymujemy tylko pionowe kreski.\n",
    "- Rozwiązaniem jest rekonstrukcja – jako marker wybieramy obraz oryginalny poddany erozji. Maskę stanowi obraz oryginalny. Samodzielnie dobierz element strukturalny.\n",
    "- Zaimplementuj rekonstrukcję i porównaj efekt otwarcia i rekonstrukcji.\n"
   ]
  },
  {
   "cell_type": "code",
   "execution_count": null,
   "metadata": {
    "id": "6oy1-pqdKHG3"
   },
   "outputs": [],
   "source": [
    "img5 = cv2.imread(\"text.bmp\")\n",
    "img5 = cv2.cvtColor(img5, cv2.COLOR_BGR2GRAY)\n",
    "fig, axs = plt.subplots(1,1)\n",
    "fig.set_size_inches(15, 8)\n",
    "axs.axis('off')\n",
    "axs.imshow(img5, 'gray')"
   ]
  },
  {
   "cell_type": "code",
   "execution_count": null,
   "metadata": {},
   "outputs": [],
   "source": [
    "fig, axs = plt.subplots(1,1)\n",
    "fig.set_size_inches(15, 8)\n",
    "axs.axis('off')\n",
    "axs.imshow(cv2.morphologyEx(img5, cv2.MORPH_OPEN, np.ones((51,1))), 'gray')"
   ]
  },
  {
   "cell_type": "code",
   "execution_count": null,
   "metadata": {},
   "outputs": [],
   "source": [
    "def reconstruction(img, mask, struct_element, erode_element):\n",
    "    img_eroded = cv2.erode(img, erode_element)\n",
    "    marker = img_eroded\n",
    "    \n",
    "    while True:\n",
    "        dilated = cv2.dilate(marker, struct_element)\n",
    "        reconstructed = cv2.bitwise_and(dilated, mask)\n",
    "\n",
    "        diff = cv2.subtract(reconstructed, marker)\n",
    "        if not np.any(diff):\n",
    "            break\n",
    "\n",
    "        marker = reconstructed\n",
    "\n",
    "    return reconstructed\n",
    "\n",
    "\n",
    "res = reconstruction(img5, img5, cv2.getStructuringElement(cv2.MORPH_RECT, (3,3)), np.ones((51, 1)))\n",
    "\n",
    "fig, axs = plt.subplots(1,1)\n",
    "fig.set_size_inches(15, 8)\n",
    "axs.axis('off')\n",
    "axs.imshow(res, 'gray')"
   ]
  },
  {
   "cell_type": "markdown",
   "metadata": {
    "id": "x_irwB7fKHG3"
   },
   "source": [
    "## Operacje morfologiczne dla obrazów w skali szarości\n",
    "\n",
    "Wszystkie dotychczasowe operacje (oprócz transformacji trafi, nie trafi) mają swoje odpowieniki dla obrazów w skali szarości. Konieczne jest tylko podanie definicji erozji i dylatacji w nieco innej formie:\n",
    "- Erozja – filtr minimalny.\n",
    "- Dylatacja – filtr maksymalny.\n",
    "\n",
    "\n",
    "1. Wczytaj obraz ferrari.bmp i wykonaj operacje morfologiczne: erozję i dylatację. Element strukturalny ustal na kwadrat 3×3. Oblicz też różnicę pomiędzy obrazem po dylatacji a po erozji – czyli tzw. gradient morfologiczny. Rezultaty wyświetl na wspólnym wykresie.\n",
    "2. Otwarcie to tłumienie jasnych detali na obrazie. Zamkniecie to tłumienie ciemnych detali na obrazie. Potwierdź powyższe stwierdzenia wykonując obie operacje na obrazie _ferrari_.\n",
    "3. Wykonaj operacje top-hat i bottom-hat `cv2.morphologyEx(img, cv2.MORPH_TOPHAT, strel)` oraz `cv2.morphologyEx(img, cv2.MORPH_BLACKHAT, strel)` na obrazie _ferrari_. Jakie obszary udało sie wykryć za pomocą tej operacji? Z jakich operacji składa sie filtr top-hat?\n",
    "4. Wczytaj obraz rice.png (z laboratorium o binaryzacji). Wyświetl go. Zwróć uwage na niejednorodne oświetlenie. Wykonaj operacje top-hat z dużym elementem strukturalnym (np. koło o rozmiarze 10) na tym obrazie. Wynik wyświetl. Co stało się z niejednorodnością oświetlenia?"
   ]
  },
  {
   "cell_type": "code",
   "execution_count": null,
   "metadata": {
    "id": "jmp6zrXkKHG4",
    "pycharm": {
     "name": "#%%\n"
    }
   },
   "outputs": [],
   "source": [
    "strel = cv2.getStructuringElement(cv2.MORPH_RECT,(3,3))\n",
    "img6 = cv2.imread(\"ferrari.bmp\")\n",
    "img6 = cv2.cvtColor(img6, cv2.COLOR_BGR2GRAY)\n",
    "img6_eroded = cv2.erode(img6, strel)\n",
    "img6_dilated = cv2.dilate(img6, strel)\n",
    "fig, axs = plt.subplots(1,4)\n",
    "fig.set_size_inches(15, 8)\n",
    "axs[0].axis('off')\n",
    "axs[1].axis('off')\n",
    "axs[2].axis('off')\n",
    "axs[3].axis('off')\n",
    "axs[0].set_title(\"Obraz orygnialny\")\n",
    "axs[1].set_title(\"Obraz po erozji\")\n",
    "axs[2].set_title(\"Obraz po dylatacji\")\n",
    "axs[3].set_title(\"Gradient morfologiczny\")\n",
    "axs[0].imshow(img6, 'gray')\n",
    "axs[1].imshow(img6_eroded, 'gray')\n",
    "axs[2].imshow(img6_dilated, 'gray')\n",
    "axs[3].imshow(cv2.subtract(img6_dilated, img6_eroded), 'gray')"
   ]
  },
  {
   "cell_type": "code",
   "execution_count": null,
   "metadata": {},
   "outputs": [],
   "source": [
    "fig, axs = plt.subplots(1,2)\n",
    "fig.set_size_inches(15, 8)\n",
    "axs[0].axis('off')\n",
    "axs[1].axis('off')\n",
    "axs[0].set_title(\"Obraz po zamknięciu\")\n",
    "axs[1].set_title(\"Obraz po otwarciu\")\n",
    "axs[0].imshow(cv2.morphologyEx(img6, cv2.MORPH_CLOSE, strel), 'gray')\n",
    "axs[1].imshow(cv2.morphologyEx(img6, cv2.MORPH_OPEN, strel), 'gray')"
   ]
  },
  {
   "cell_type": "code",
   "execution_count": null,
   "metadata": {
    "scrolled": true
   },
   "outputs": [],
   "source": [
    "fig, axs = plt.subplots(1,2)\n",
    "fig.set_size_inches(15, 8)\n",
    "axs[0].axis('off')\n",
    "axs[1].axis('off')\n",
    "axs[0].set_title(\"Obraz po TOPHAT\")\n",
    "axs[1].set_title(\"Obraz po BLACKHAT\")\n",
    "axs[0].imshow(cv2.morphologyEx(img6, cv2.MORPH_TOPHAT, strel), 'gray')\n",
    "axs[1].imshow(cv2.morphologyEx(img6, cv2.MORPH_BLACKHAT, strel), 'gray')"
   ]
  },
  {
   "cell_type": "markdown",
   "metadata": {},
   "source": [
    "### TOPHAT wykrył miejsca jasne, a BLACKHAT miejsca ciemne"
   ]
  },
  {
   "cell_type": "code",
   "execution_count": null,
   "metadata": {},
   "outputs": [],
   "source": [
    "img7 = cv2.imread(\"rice.png\")\n",
    "img7 = cv2.cvtColor(img7, cv2.COLOR_BGR2GRAY)\n",
    "fig, axs = plt.subplots(1,2)\n",
    "fig.set_size_inches(15, 8)\n",
    "axs[0].axis('off')\n",
    "axs[1].axis('off')\n",
    "axs[0].set_title(\"Obraz orygnalny\")\n",
    "axs[1].set_title(\"Obraz po TOPHAT\")\n",
    "axs[0].imshow(img7, 'gray')\n",
    "axs[1].imshow(cv2.morphologyEx(img7, cv2.MORPH_TOPHAT, cv2.getStructuringElement(cv2.MORPH_RECT,(10,10))), 'gray')"
   ]
  },
  {
   "cell_type": "markdown",
   "metadata": {
    "id": "qIwoiXs-KHG4"
   },
   "source": [
    "## Przykład zastosowania morfologii\n",
    "\n",
    "1. Wczytaj obraz calculator.bmp. Wyświetl go. Zadanie do realizacji: wyizolować tekst na klawiszach kalkulatora.\n",
    "2. W pierwszym kroku usunięte zostaną poziome odbicia znajdujące się na górnej krawędzi każdego z klawiszy. Wykorzystamy fakt, że odbicie jest dłuższe niż jakikolwiek pojedynczy znak. Wykonujemy otwarcie przez rekonstrukcję (można wykorzystać kod z wcześniejszego zadania, ale tym razem mamy do czynienia z obrazem w skali szarości zamiast z binarnym – proszę się zastanowić, jaka operacja jest odpowiednikiem operacji AND?):\n",
    "  - początkowo wykonujemy erozję z elementem strukturalnym w postaci poziomej linii — `np.ones((1,71))`,\n",
    "  - następnie dokonujemy rekonstrukcji: marker – obraz po erozji, maska – obraz oryginalny,\n",
    "  - wynik operacji wyświetl. Dla porównania wyświetl wynik klasycznego otwarcia z takim samym elementem strukturalnym. W czym otwarcie przez rekonstrukcję jest lepsze od klasycznego?\n",
    "3. W poprzednim kroku (tj. w wyniku otwarcia przez rekonstrukcję) uzyskaliśmy obraz tła. Należy go teraz odjąć od obrazu oryginalnego. Ten rodzaj operacji można nazwać top-hat poprzez rekonstrukcję. Wynik wyświetl. Dla porównania wyświetl wynik klasycznej operacji top-hat – różnicy miedzy obrazem oryginalnym a obrazem po klasycznym otwarciu.\n",
    "4. W podobny sposób należy zlikwidować odblaski pionowe:\n",
    "  - erozja z elementem strukturalnym w postaci poziomej linii – `np.ones((1,11))` – zostaną zachowane wszystkie znaki (bo prawie wszystkie są szersze). Uwaga. Operacje wykonujemy na uzyskanym w kroku 3 rezultacie odjęcia od obrazu oryginalnego, obrazu po rekonstrukcji.\n",
    "  - rekonstrukcja: marker – obraz po erozji, maska – obraz z punktu 3 (różnica oryginalnego i tła),\n",
    "  - wynik wyświetl.\n",
    "5. Rezultat jest niemal satysfakcjonujący, ale wystąpił problem z cienkimi pionowymi elementami napisów – np. I na klawiszu ASIN. Wykorzystując fakt, że usunięte znaki znajdują się w bezpośrednim sąsiedztwie istniejących znaków wykonujemy następujące operacje:\n",
    "  - dylatacja z elementem `np.ones((1,21))`,\n",
    "  - rekonstrukcja z markerem w postaci – minimum(obraz po dylatacji z punktu powyżej, obraz uzyskany w punkcie 3, tj. różnica oryginalnego i tła) oraz maską – obraz z pkt. 3.\n",
    "6. Rezultat wyświetl. Czy za pomocą zaproponowanych operacji udało się uzyskać zamierzony efekt – ekstrakcję napisów?\n"
   ]
  },
  {
   "cell_type": "code",
   "execution_count": null,
   "metadata": {
    "id": "DIy6L9S7KHG5",
    "pycharm": {
     "name": "#%%\n"
    }
   },
   "outputs": [],
   "source": [
    "img8 = cv2.imread(\"calculator.bmp\")\n",
    "img8 = cv2.cvtColor(img8, cv2.COLOR_BGR2GRAY)\n",
    "def show(image):\n",
    "    fig, axs = plt.subplots(1,1)\n",
    "    fig.set_size_inches(15, 8)\n",
    "    axs.axis('off')\n",
    "    axs.imshow(image, 'gray')\n",
    "    \n",
    "show(img8)"
   ]
  },
  {
   "cell_type": "code",
   "execution_count": null,
   "metadata": {},
   "outputs": [],
   "source": [
    "def reconstruction_grey(img, mask, struct_element, erode_element):\n",
    "    img_eroded = cv2.erode(img, erode_element)\n",
    "    marker = img_eroded\n",
    "    \n",
    "    while True:\n",
    "        dilated = cv2.dilate(marker, struct_element)\n",
    "        reconstructed = np.minimum(dilated, mask)\n",
    "\n",
    "        diff = cv2.subtract(reconstructed, marker)\n",
    "        if not np.any(diff):\n",
    "            break\n",
    "\n",
    "        marker = reconstructed\n",
    "\n",
    "    return reconstructed\n",
    "\n",
    "res_horizontal = reconstruction_grey(img8, img8, strel, np.ones((1, 71)))\n",
    "show(res_horizontal)"
   ]
  },
  {
   "cell_type": "code",
   "execution_count": null,
   "metadata": {},
   "outputs": [],
   "source": [
    "show(cv2.morphologyEx(img8, cv2.MORPH_OPEN, np.ones((1, 71))))"
   ]
  },
  {
   "cell_type": "code",
   "execution_count": null,
   "metadata": {},
   "outputs": [],
   "source": [
    "img8_diff = cv2.subtract(img8, res_horizontal)\n",
    "show(img8_diff)"
   ]
  },
  {
   "cell_type": "code",
   "execution_count": null,
   "metadata": {},
   "outputs": [],
   "source": [
    "res = reconstruction_grey(img8_diff, img8_diff, strel, np.ones((1, 11)))\n",
    "show(res)"
   ]
  },
  {
   "cell_type": "code",
   "execution_count": null,
   "metadata": {},
   "outputs": [],
   "source": [
    "dilatation = cv2.dilate(res, np.ones((1,21)))\n",
    "res_final = reconstruction_grey(np.minimum(img8_diff, dilatation), img8_diff, strel, np.ones((3,3)))\n",
    "show(res_final)"
   ]
  }
 ],
 "metadata": {
  "celltoolbar": "Raw Cell Format",
  "colab": {
   "provenance": []
  },
  "kernelspec": {
   "display_name": "Python 3 (ipykernel)",
   "language": "python",
   "name": "python3"
  },
  "language_info": {
   "codemirror_mode": {
    "name": "ipython",
    "version": 3
   },
   "file_extension": ".py",
   "mimetype": "text/x-python",
   "name": "python",
   "nbconvert_exporter": "python",
   "pygments_lexer": "ipython3",
   "version": "3.11.11"
  }
 },
 "nbformat": 4,
 "nbformat_minor": 4
}
