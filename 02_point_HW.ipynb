{
 "cells": [
  {
   "cell_type": "markdown",
   "metadata": {
    "id": "m5Q2hnDC3NuL"
   },
   "source": [
    "# Zadanie domowe\n",
    "\n",
    "W przypadku obrazów w odcieniach szarości pojedynczy piksel z zakresu [0; 255] reprezentowany jest jako 8-bitowa liczba bez znaku.\n",
    "Pewnym rozszerzeniem analizy sposobu reprezentacji obrazu może być następujący eksperyment.\n",
    "Załóżmy, że z każdego z 8 bitów możemy stworzyć pojedynczy obraz binarny (ang. _bit-plane slicing_).\n",
    "Dla obrazka _100zloty.jpg_ (https://raw.githubusercontent.com/vision-agh/poc_sw/master/02_Point/100zloty.jpg) stwórz 8 obrazów, z których każdy powinien zawierać jedną płaszczyznę bitową.\n",
    "Podpowiedź $-$ warto sprawdzić, jak realizuje się bitowe operacje logiczne.\n",
    "Zastosowanie takiej dekompozycji obrazu pozwala na analizę ,,ważności'' poszczególnych bitów.\n",
    "Jest to użyteczne w kwantyzacji, ale także w kompresji.\n",
    "\n",
    "W drugim etapie zadania proszę spróbować odtworzyć obraz oryginalny z mniejszej liczby obrazów binarnych.\n",
    "Warto zacząć od dwóch najbardziej znaczących bitów, a później dodawać kolejne.\n",
    "Należy utworzyć co najmniej trzy wersje zrekonstruowanych obrazów.\n",
    "Podpowiedź $-$ rekonstrukcja obrazu to mnożenie przez odpowiednią potęgę liczby 2 (przesunięcie bitowe) oraz dodawanie."
   ]
  },
  {
   "cell_type": "code",
   "execution_count": null,
   "metadata": {
    "id": "tsKtFztv4T2l"
   },
   "outputs": [],
   "source": [
    "import cv2\n",
    "import os\n",
    "import requests\n",
    "import numpy as np\n",
    "import matplotlib.pyplot as plt\n",
    "\n",
    "url = 'https://raw.githubusercontent.com/vision-agh/poc_sw/master/02_Point/'\n",
    "fileName = '100zloty.jpg'\n",
    "if not os.path.exists(fileName) :\n",
    "    r = requests.get(url + fileName, allow_redirects=True)\n",
    "    open(fileName, 'wb').write(r.content)\n",
    "    \n",
    "img = cv2.imread('100zloty.jpg')\n",
    "img = cv2.cvtColor(img, cv2.COLOR_BGR2GRAY)"
   ]
  },
  {
   "cell_type": "code",
   "execution_count": null,
   "metadata": {},
   "outputs": [],
   "source": [
    "plt.gray()\n",
    "plt.imshow(img)"
   ]
  },
  {
   "cell_type": "code",
   "execution_count": null,
   "metadata": {
    "scrolled": false
   },
   "outputs": [],
   "source": [
    "row ,col = img.shape\n",
    "\n",
    "def back2img(array):\n",
    "    return np.reshape(array,(row,col))\n",
    "\n",
    "# Get a flat 8bit representation of each pixel\n",
    "def intToBitArray(image):\n",
    "    list = []\n",
    "\n",
    "    for i in range(row):\n",
    "        for j in range(col):\n",
    "             list.append(np.binary_repr(image[i][j] ,width=8))\n",
    "\n",
    "    return list\n",
    "\n",
    "array8bit = intToBitArray(img)\n",
    "\n",
    "# Get the i-th bit value from the flat map of 8bit values\n",
    "def getith(ith, array):\n",
    "    return [int(num[ith]) for num in array]\n",
    "\n",
    "f, axis = plt.subplots(8,1,figsize=(15,25))\n",
    "f.tight_layout()\n",
    "for i in range(8):\n",
    "    axis[i].axis('off')\n",
    "    axis[i].set_title(\"Layer \" + str(i))\n",
    "    axis[i].imshow(back2img(getith(i,array8bit)))"
   ]
  },
  {
   "cell_type": "code",
   "execution_count": null,
   "metadata": {},
   "outputs": [],
   "source": [
    "def binaryAdd(arr1, factor1, arr2, factor2):\n",
    "    tmp = []\n",
    "    for i in range(0, len(arr1)):\n",
    "        tmp.append(arr1[i]*factor1 + arr2[2]*factor2)\n",
    "    \n",
    "    return tmp\n",
    "        \n",
    "layer0 = getith(0, array8bit)\n",
    "layer1 = getith(1, array8bit)\n",
    "result01 = binaryAdd(layer0, 128, layer1, 64)\n",
    "\n",
    "plt.axis('off')\n",
    "plt.title('Layer 0 + 1')\n",
    "plt.imshow(back2img(result01))"
   ]
  },
  {
   "cell_type": "code",
   "execution_count": null,
   "metadata": {},
   "outputs": [],
   "source": [
    "layer2 = getith(2, array8bit)\n",
    "layer3 = getith(3, array8bit)\n",
    "result23 = binaryAdd(layer2, 32, layer3, 16)\n",
    "\n",
    "plt.axis('off')\n",
    "plt.title('Layer 2 + 3')\n",
    "plt.imshow(back2img(result23))"
   ]
  },
  {
   "cell_type": "code",
   "execution_count": null,
   "metadata": {},
   "outputs": [],
   "source": [
    "layer4 = getith(4, array8bit)\n",
    "layer5 = getith(5, array8bit)\n",
    "result45 = binaryAdd(layer4, 8, layer5, 4)\n",
    "\n",
    "plt.axis('off')\n",
    "plt.title('Layer 4 + 5')\n",
    "plt.imshow(back2img(result45))"
   ]
  },
  {
   "cell_type": "code",
   "execution_count": null,
   "metadata": {},
   "outputs": [],
   "source": [
    "layer6 = getith(6, array8bit)\n",
    "layer7 = getith(7, array8bit)\n",
    "result67 = binaryAdd(layer6, 2, layer7, 1)\n",
    "\n",
    "plt.axis('off')\n",
    "plt.title('Layer 6 + 7')\n",
    "plt.imshow(back2img(result67))"
   ]
  },
  {
   "cell_type": "code",
   "execution_count": null,
   "metadata": {},
   "outputs": [],
   "source": [
    "plt.axis('off')\n",
    "plt.title('Layer 0 + 1 + 2 + 3')\n",
    "plt.imshow(cv2.add(back2img(result01), back2img(result23)))"
   ]
  },
  {
   "cell_type": "code",
   "execution_count": null,
   "metadata": {},
   "outputs": [],
   "source": [
    "plt.axis('off')\n",
    "plt.title('Layer 4 + 5 + 6 + 7')\n",
    "plt.imshow(cv2.add(back2img(result45), back2img(result67)))"
   ]
  },
  {
   "cell_type": "code",
   "execution_count": null,
   "metadata": {},
   "outputs": [],
   "source": [
    "plt.axis('off')\n",
    "plt.title('All layers')\n",
    "plt.imshow(cv2.add(cv2.add(back2img(result01), back2img(result23)), cv2.add(back2img(result45), back2img(result67))))"
   ]
  },
  {
   "cell_type": "code",
   "execution_count": null,
   "metadata": {},
   "outputs": [],
   "source": [
    "result17 = binaryAdd(layer2, 64, layer3, 1)\n",
    "\n",
    "plt.axis('off')\n",
    "plt.title('Layer 1 + 7')\n",
    "plt.imshow(back2img(result17))"
   ]
  },
  {
   "cell_type": "code",
   "execution_count": null,
   "metadata": {},
   "outputs": [],
   "source": [
    "result04 = binaryAdd(layer0, 128, layer4, 8)\n",
    "\n",
    "plt.axis('off')\n",
    "plt.title('Layer 0 + 4')\n",
    "plt.imshow(back2img(result04))"
   ]
  }
 ],
 "metadata": {
  "colab": {
   "provenance": []
  },
  "kernelspec": {
   "display_name": "Python 3 (ipykernel)",
   "language": "python",
   "name": "python3"
  },
  "language_info": {
   "codemirror_mode": {
    "name": "ipython",
    "version": 3
   },
   "file_extension": ".py",
   "mimetype": "text/x-python",
   "name": "python",
   "nbconvert_exporter": "python",
   "pygments_lexer": "ipython3",
   "version": "3.11.5"
  }
 },
 "nbformat": 4,
 "nbformat_minor": 1
}
