{
 "cells": [
  {
   "cell_type": "markdown",
   "metadata": {
    "id": "4Fbe36eKPM0s"
   },
   "source": [
    "## Zadanie domowe: BBHE i DSIHE\n",
    "\n",
    "W klasycznym wyrównywaniu histogramu HE  po wykonaniu operacji jasność obrazu ulega zmianie.\n",
    "Dało się to zaobserwować podczas przeprowadzonych eksperymentów.\n",
    "Jeśli nie to należy uruchomić skrypt z sekcji A i zwrócić na to uwagę.\n",
    "Średnia jasność dąży do środkowego poziomu szarości.\n",
    "Jest to wada i dlatego klasyczne HE ma ograniczone zastosowanie.\n",
    "\n",
    "Powstało sporo metod, które eliminują to niekorzystne zjawisko.\n",
    "Najprostsze z nich polegają na dekompozycji obrazu wejściowego na dwa podobrazy (wg. pewnego kryterium).\n",
    "Następnie operacja HE wykonywana jest dla tych podobrazów.\n",
    "\n",
    "Dwie znane z literatury metody to:\n",
    "- Bi-Histogram Equalization\n",
    "- DSIHE - Dualistic Sub-Image Histogram Equalization\n",
    "\n",
    "W metodzie BBHE za kryterium podziału przyjmuje się średnią jasność w obrazie.\n",
    "W DSIHE obraz dzieli się na dwa podobrazy o takiej samej liczbie pikseli (jaśniejszych i ciemniejszych).\n",
    "\n",
    "W ramach zadania należy zaimplementować wybraną metodę: BBHE lub DSIHE (ew. obie).\n",
    "\n",
    "1. Wczytaj obraz *jet.bmp* i wylicz jego histogram.\n",
    "2. W kolejnym kroku należy wyznaczyć próg podziału obrazu na dwa podobrazy (*lm*).\n",
    "3. Dla BBHE wyznacz średnią jasność obrazu. Dla DSIHE można wykorzystać histogram skumulowany.\n",
    "Należy znaleźć poziom jasności który znajduje się \"w połowie\" histogramu skumulowanego.\n",
    "W tym celu warto stworzyć tablicę, zawierającą moduł histogramu skumulowanego pomniejszonego o połowę liczby pikseli.\n",
    "Następnie znaleźć minimum - `np.argmin`.\n",
    "4. Dalej należy podzielić histogram oryginalnego obrazu na dwa histogramy *H1* i *H2*.\n",
    "Dla każdego z nich wyliczyć histogram skumulowany ($C_1$ i $C_2$) i wykonać normalizację.\n",
    "Normalizacja polega na podzieleniu każdego histogramu przez jego największy element.\n",
    "5. Na podstawie histogramów skumulowanych należy stworzyć przekształcenie LUT.\n",
    "Należy tak przeskalować $C_1$ i $C_2$, aby uzyskać jednorodne przekształcenie.\n",
    "Tablicę $C_1$ wystarczy pomnożyć przez próg podziału.\n",
    "Tablicę $C_2$ należy przeskalować do przedziału: $<lm+1; 255>$, gdzie $lm$ jest progiem podziału.<br>\n",
    "$C_{1n} = (lm)*C1;$<br>\n",
    "$C_{2n} = lm+1 + (255-lm-1)*C2;$<br>\n",
    "Następnie dwie części tablicy przekodowań należy połączyć.\n",
    "6. Ostatecznie należy wykonać operację LUT i wyświetlić wynik wyrównywania histogramu.\n",
    "Porównaj wynik operacji BBHE lub DSIHE z klasycznym HE."
   ]
  },
  {
   "cell_type": "code",
   "execution_count": null,
   "metadata": {
    "id": "c2Q0bFkqPM0v",
    "pycharm": {
     "name": "#%% Zadanie domowe - BBHE\n"
    }
   },
   "outputs": [],
   "source": [
    "import cv2\n",
    "import os\n",
    "import requests\n",
    "from matplotlib import pyplot as plt\n",
    "import numpy as np\n",
    "\n",
    "fileName = 'jet.bmp'\n",
    "if not os.path.exists(fileName) :\n",
    "    r = requests.get(url + fileName, allow_redirects=True)\n",
    "    open(fileName, 'wb').write(r.content)"
   ]
  },
  {
   "cell_type": "code",
   "execution_count": null,
   "metadata": {
    "id": "KPTV1fMpPM0y",
    "pycharm": {
     "name": "#%% Zadanie domowe - DSIHE\n"
    }
   },
   "outputs": [],
   "source": [
    "img = cv2.imread('jet.bmp', cv2.IMREAD_GRAYSCALE)\n",
    "\n",
    "plt.imshow(img, 'gray')"
   ]
  },
  {
   "cell_type": "code",
   "execution_count": null,
   "metadata": {},
   "outputs": [],
   "source": [
    "hist = cv2.calcHist([img], [0], None, [256], [0, 256])\n",
    "\n",
    "fig, ax = plt.subplots()\n",
    "\n",
    "ax.plot(hist)\n",
    "ax.set_xlabel(\"Brightness\")\n",
    "ax.set_ylabel(\"Amount of pixels\")"
   ]
  },
  {
   "cell_type": "markdown",
   "metadata": {},
   "source": [
    "<h1 style=\"text-align:center\">BBHE</h1>"
   ]
  },
  {
   "cell_type": "code",
   "execution_count": null,
   "metadata": {},
   "outputs": [],
   "source": [
    "mean_brightness = int(cv2.mean(img)[0])\n",
    "print(\"Mean brightness value: \" + str(mean_brightness))"
   ]
  },
  {
   "cell_type": "code",
   "execution_count": null,
   "metadata": {},
   "outputs": [],
   "source": [
    "h1 = hist[0:169]\n",
    "h2 = hist[169:]\n",
    "\n",
    "fig, axs = plt.subplots(1,2)\n",
    "\n",
    "axs[0].plot(h1)\n",
    "axs[0].set_xlabel(\"Brightness\")\n",
    "axs[0].set_ylabel(\"Amount of pixels\")\n",
    "\n",
    "axs[1].plot([[x] for x in range(169, 256)] , h2)\n",
    "axs[1].set_xlabel(\"Brightness\")\n",
    "axs[1].set_ylabel(\"Amount of pixels\")\n",
    "\n",
    "ymin,ymax = axs[1].get_ylim()\n",
    "\n",
    "axs[0].set_ylim(ymin,ymax)"
   ]
  },
  {
   "cell_type": "code",
   "execution_count": null,
   "metadata": {},
   "outputs": [],
   "source": [
    "csum1 = np.cumsum(h1)\n",
    "csum2 = np.cumsum(h2)\n",
    "\n",
    "fig, axs = plt.subplots(1,2)\n",
    "\n",
    "axs[0].plot(csum1)\n",
    "axs[0].set_xlabel(\"Brightness\")\n",
    "axs[0].set_ylabel(\"Cumulative amount of pixels\")\n",
    "\n",
    "axs[1].plot([[x] for x in range(169, 256)] , csum2)\n",
    "axs[1].set_xlabel(\"Brightness\")\n",
    "axs[1].set_ylabel(\"Cumulative amount of pixels\")\n",
    "\n",
    "ymin,ymax = axs[1].get_ylim()\n",
    "\n",
    "axs[0].set_ylim(ymin,ymax)"
   ]
  },
  {
   "cell_type": "code",
   "execution_count": null,
   "metadata": {},
   "outputs": [],
   "source": [
    "for i in range(0, len(csum1)):\n",
    "    csum1[i] = csum1[i]/(csum1[len(csum1)-1])\n",
    "for i in range(0, len(csum2)):\n",
    "    csum2[i] = csum2[i]/(csum2[len(csum2)-1])\n",
    "\n",
    "fig, axs = plt.subplots(1,2)\n",
    "    \n",
    "axs[0].plot(csum1)\n",
    "axs[0].set_xlabel(\"Brightness\")\n",
    "axs[0].set_ylabel(\"Normalized cumulative amount of pixels\")\n",
    "\n",
    "axs[1].plot([[x] for x in range(169, 256)] , csum2)\n",
    "axs[1].set_xlabel(\"Brightness\")\n",
    "axs[1].set_ylabel(\"Normalized cumulative amount of pixels\")\n",
    "\n",
    "ymin,ymax = axs[1].get_ylim()\n",
    "\n",
    "axs[0].set_ylim(ymin,ymax)"
   ]
  },
  {
   "cell_type": "code",
   "execution_count": null,
   "metadata": {},
   "outputs": [],
   "source": [
    "c1 = csum1.copy()\n",
    "c2 = csum2.copy()\n",
    "\n",
    "for i in range(0, len(c1)):\n",
    "    c1[i] = c1[i]*mean_brightness\n",
    "for i in range(0, len(c2)):\n",
    "    c2[i] = c2[i]*(255-mean_brightness-1)+1+mean_brightness\n",
    "    \n",
    "fig, axs = plt.subplots(1,2)\n",
    "    \n",
    "axs[0].plot(c1)\n",
    "axs[0].set_xlabel(\"Brightness\")\n",
    "axs[0].set_ylabel(\"Remapped brightness\")\n",
    "\n",
    "axs[1].plot([[x] for x in range(169, 256)] , c2)\n",
    "axs[1].set_xlabel(\"Brightness\")\n",
    "axs[1].set_ylabel(\"Remapped brightness\")"
   ]
  },
  {
   "cell_type": "code",
   "execution_count": null,
   "metadata": {},
   "outputs": [],
   "source": [
    "joined_hist = np.concatenate((c1, c2))\n",
    "\n",
    "result = img.copy()\n",
    "row, col = img.shape\n",
    "for i in range(row):\n",
    "        for j in range(col):\n",
    "            result[i][j] = joined_hist[img[i][j]]\n",
    "            \n",
    "plt.imshow(result, 'gray')"
   ]
  },
  {
   "cell_type": "code",
   "execution_count": null,
   "metadata": {},
   "outputs": [],
   "source": [
    "def classic_equalize(img):\n",
    "    row, col = img.shape\n",
    "    chist = np.cumsum(cv2.calcHist([img], [0], None, [256], [0, 256]))\n",
    "    np.ma.masked_equal(chist, 0)\n",
    "    np.ma.filled(chist)\n",
    "    for i in range(0, len(chist)):\n",
    "        chist[i] = int((chist[i]/(chist[len(chist)-1]))*img.max())\n",
    "        \n",
    "    result = img.copy()\n",
    "    \n",
    "    for i in range(row):\n",
    "        for j in range(col):\n",
    "            result[i][j] = chist[img[i][j]]\n",
    "    \n",
    "    return result"
   ]
  },
  {
   "cell_type": "code",
   "execution_count": null,
   "metadata": {},
   "outputs": [],
   "source": [
    "eq_img = classic_equalize(img)\n",
    "fig, axs = plt.subplots(1, 3)\n",
    "fig.set_size_inches(20, 10)\n",
    "axs[2].axis('off')\n",
    "axs[2].imshow(eq_img, 'gray')\n",
    "axs[2].set_title(\"Classic HE\")\n",
    "axs[1].axis('off')\n",
    "axs[1].imshow(result, 'gray')\n",
    "axs[1].set_title(\"BBHE\")\n",
    "axs[0].axis('off')\n",
    "axs[0].imshow(img, 'gray')\n",
    "axs[0].set_title(\"Original image\")"
   ]
  }
 ],
 "metadata": {
  "colab": {
   "collapsed_sections": [],
   "provenance": []
  },
  "kernelspec": {
   "display_name": "Python 3 (ipykernel)",
   "language": "python",
   "name": "python3"
  },
  "language_info": {
   "codemirror_mode": {
    "name": "ipython",
    "version": 3
   },
   "file_extension": ".py",
   "mimetype": "text/x-python",
   "name": "python",
   "nbconvert_exporter": "python",
   "pygments_lexer": "ipython3",
   "version": "3.11.5"
  }
 },
 "nbformat": 4,
 "nbformat_minor": 1
}
