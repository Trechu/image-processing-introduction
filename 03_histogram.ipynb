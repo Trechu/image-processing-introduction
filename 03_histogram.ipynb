{
 "cells": [
  {
   "cell_type": "markdown",
   "metadata": {
    "id": "GyJVpdDDcDvQ",
    "pycharm": {
     "name": "#%% md\n"
    }
   },
   "source": [
    "# Histogram obrazu. Wyrównywanie histogramu."
   ]
  },
  {
   "cell_type": "markdown",
   "metadata": {
    "id": "NLeSSymzcDvS",
    "pycharm": {
     "name": "#%% md\n"
    }
   },
   "source": [
    "## Cel ćwiczenia\n",
    "\n",
    "- Zapoznanie z pojęciem histogramu obrazu (w odcieniach szarości i kolorze).\n",
    "- Zapoznanie z metodami modyfikacji histogramu (rozciąganie, wyrównywanie, dopasowywanie)."
   ]
  },
  {
   "cell_type": "markdown",
   "metadata": {
    "id": "-vb7gT4WcDvT",
    "pycharm": {
     "name": "#%% md\n"
    }
   },
   "source": [
    "## Histogram\n",
    "\n",
    "- Histogramem obrazu nazywamy wykres słupkowy zdefiniowany następującymi zależnościami:<br>\n",
    "\\begin{equation}\n",
    "h(i) = \\sum_{x=0}^{N-1} \\sum_{y=0}^{M-1} p(i,(x,y))\n",
    "\\end{equation}<br>\n",
    "gdzie:<br>\n",
    "\\begin{equation}\n",
    "p(i) =  \\left\\{\n",
    "  \\begin{array}{l l}\n",
    "    1 & \\quad \\text{gdy} f(x,y) = i\\\\\n",
    "    0 & \\quad \\text{gdy} f(x,y) \\ne i\n",
    "  \\end{array} \\right.\n",
    "\\end{equation}\n",
    "\n",
    "- Inaczej mówiąc, histogram zawiera informacje na temat tego ile pikseli o danym poziomie jasności występuje na obrazie (w przypadku obrazu w odcieniach szarości). Określa się to także rozkładem empirycznym cechy.\n",
    "\n",
    "- Często wykorzystuje się tzw. znormalizowaną postać histogramu  – wszystkie wartości $h(i)$ są dzielone przez liczbę pikseli na obrazie.\n",
    "Otrzymana w ten sposób wielkość to gęstość prawdopodobieństwa wystąpienia na obrazie pikseli o odcieniu $i$.\n",
    "\n",
    "- Histogram można zdefiniować również dla obrazów kolorowych.\n",
    "Otrzymujemy wtedy 3 histogramy – po jednym dla danej składowej: R,G,B (lub HSV, YCbCr, itp.) lub histogram trójwymiarowy.\n",
    "\n",
    "- Histogram jest bardzo użyteczny w przetwarzaniu i analizie obrazów.\n",
    "Wykorzystywany jest przy binaryzacji (szerzej na jednym z kolejnych laboratoriów) oraz do oceny jakości (dynamiki, kontrastu) obrazu.\n",
    "W idealnym przypadku wszystkie poziomy jasności w obrazie powinny być wykorzystane (i to najlepiej w miarę jednolicie)  – obrazowo mówiąc histogram powinien rozciągać się od 0  – 255 (obraz w skali szarości).\n",
    "\n",
    "- W przypadku gdy  wykorzystujemy jedynie fragment dostępnego zakresu (wąski histogram)  lub histogram nie jest jednolity (występują dominujące grupy pikseli) obraz ma dość słaby kontrast.\n",
    "Cechę tę można poprawić stosując tzw. rozciąganie albo wyrównywanie histogramu (ang. *histogram equalization*).</div>"
   ]
  },
  {
   "cell_type": "markdown",
   "metadata": {
    "id": "lFY1GGOecDvU",
    "pycharm": {
     "name": "#%% md\n"
    }
   },
   "source": [
    "## Histogram dla obrazów w odcieniach szarości\n",
    "\n",
    "1. Zaimportuj potrzebne biblioteki: *OpenCV*, *pyplot* z *matplotlib* i *numpy*.\n",
    "        import cv2\n",
    "        from matplotlib import pyplot as plt\n",
    "        import numpy as np\n",
    "2. Wczytaj obrazy *lenaX.bmp* w skali szarości. *X* jest numerem wczytywanego obrazu (1 - 4).\n",
    "        I = cv2.imread('lenaX.bmp', cv2.IMREAD_GRAYSCALE)\n",
    "3. Oblicz histogram wczytanego obrazu wykorzystując funkcję `cv2.calcHist`.\n",
    "    - Pierwszym argumentem jest obraz, dla którego obliczony zostanie histogram.\n",
    "    Należy go przekazać w nawiasie kwadratowym.\n",
    "    - Drugim argumentem jest numer kanału, dla którego ma zostać obliczony histogram.\n",
    "    Również powinien być przekazany w nawiasie kwadratowym.\n",
    "    - Trzeci argument oznacza maskę, czyli obszar, dla którego ma zostać wyznaczony histogram.\n",
    "    Aby obliczyć dla całego obrazu należy przekazać *None*.\n",
    "    - Czwartym argumentem jest rozmiar histogramu (liczba przedziałów).\n",
    "    Argument powinien być w nawiasie kwadratowym. Dla pełnej skali należy przekazać wartość *256*.\n",
    "    - Ostatnim argumentem jest zakres wartości. Dla obrazów typu *uint8* powinien on wynosić *[0, 256]*.\n",
    "    - Funkcja zwraca obliczony histogram.\n",
    "4. Wyświetl wczytane obrazy i ich histogramy w jednym oknie. Użyj `plt.subplot()` w celu stworzenia siatki wykresów.\n",
    "        figLena, axsLena = plt.subplots(2, 4)\n",
    "Rozmiar utworzonego okna można zmienić wykorzystując instrukcję (uwaga w calach -  1 cal to 2.54cm):\n",
    "        figLena.set_size_inches(20, 10)\n",
    "Przykładowe wyświetlenie obrazu:\n",
    "        axsLena[0, 0].imshow(I1, 'gray', vmin=0, vmax=256)\n",
    "        axsLena[0, 0].axis('off')\n",
    "Przykładowe wyświetlenie histogramu:\n",
    "        axsLena[1, 0].plot(H1)\n",
    "        axsLena[1, 0].grid()\n",
    "5. Przeanalizuj (dokładnie) związek histogramu z jasnością i ostrością obrazu (tu rozumianą jako subiektywne odczucie)."
   ]
  },
  {
   "cell_type": "code",
   "execution_count": null,
   "metadata": {
    "id": "KweWeS_UcDvV",
    "pycharm": {
     "name": "#%% Zadanie 1 - wyświetlanie\n"
    }
   },
   "outputs": [],
   "source": [
    "import cv2\n",
    "import os\n",
    "import requests\n",
    "from matplotlib import pyplot as plt\n",
    "import numpy as np\n",
    "\n",
    "url = 'https://raw.githubusercontent.com/vision-agh/poc_sw/master/03_Histogram/'\n",
    "\n",
    "fileName = 'lena1.bmp'\n",
    "if not os.path.exists(fileName) :\n",
    "    r = requests.get(url + fileName, allow_redirects=True)\n",
    "    open(fileName, 'wb').write(r.content)\n",
    "\n",
    "fileName = 'lena2.bmp'\n",
    "if not os.path.exists(fileName) :\n",
    "    r = requests.get(url + fileName, allow_redirects=True)\n",
    "    open(fileName, 'wb').write(r.content)\n",
    "\n",
    "fileName = 'lena3.bmp'\n",
    "if not os.path.exists(fileName) :\n",
    "    r = requests.get(url + fileName, allow_redirects=True)\n",
    "    open(fileName, 'wb').write(r.content)\n",
    "\n",
    "fileName = 'lena4.bmp'\n",
    "if not os.path.exists(fileName) :\n",
    "    r = requests.get(url + fileName, allow_redirects=True)\n",
    "    open(fileName, 'wb').write(r.content)"
   ]
  },
  {
   "cell_type": "code",
   "execution_count": null,
   "metadata": {},
   "outputs": [],
   "source": [
    "img1 = cv2.imread('lena1.bmp', cv2.IMREAD_GRAYSCALE)\n",
    "img2 = cv2.imread('lena2.bmp', cv2.IMREAD_GRAYSCALE)\n",
    "img3 = cv2.imread('lena3.bmp', cv2.IMREAD_GRAYSCALE)\n",
    "img4 = cv2.imread('lena4.bmp', cv2.IMREAD_GRAYSCALE)\n",
    "\n",
    "hist1 = cv2.calcHist([img1], [0], None, [256], [0, 256])\n",
    "hist2 = cv2.calcHist([img2], [0], None, [256], [0, 256])\n",
    "hist3 = cv2.calcHist([img3], [0], None, [256], [0, 256])\n",
    "hist4 = cv2.calcHist([img4], [0], None, [256], [0, 256])\n",
    "\n",
    "fig, axs = plt.subplots(2, 4)\n",
    "fig.set_size_inches(20, 10)\n",
    "axs[0, 0].axis('off')\n",
    "axs[0, 0].imshow(img1, 'gray', vmin=0, vmax=256)\n",
    "axs[1, 0].plot(hist1)\n",
    "axs[0, 1].axis('off')\n",
    "axs[0, 1].imshow(img2, 'gray', vmin=0, vmax=256)\n",
    "axs[1, 1].plot(hist2)\n",
    "axs[0, 2].axis('off')\n",
    "axs[0, 2].imshow(img3, 'gray', vmin=0, vmax=256)\n",
    "axs[1, 2].plot(hist3)\n",
    "axs[0, 3].axis('off')\n",
    "axs[0, 3].imshow(img4, 'gray', vmin=0, vmax=256)\n",
    "axs[1, 3].plot(hist4)"
   ]
  },
  {
   "cell_type": "markdown",
   "metadata": {
    "id": "yvrZfMJZcDvV",
    "pycharm": {
     "name": "#%% md\n"
    }
   },
   "source": [
    "## Rozciąganie histogramu\n",
    "\n",
    "Najprostszą metodą poprawienia jakości obrazu jest tzw. rozciągnięcie histogramu.\n",
    "Polega na przeskalowaniu wartości pikseli w obrazie tak, aby wykorzystać cały dostępny zakres [0-255] (oczywiście w przypadku obrazów w odcieniach szarości w reprezentacji 8-bitowej).\n",
    "\n",
    "1. Wczytaj obraz *hist1.bmp* w skali szarości.\n",
    "Oblicz i wyświetl histogram rozpatrywanego obrazu (na wspólnym rysunku z obrazem).\n",
    "Zwróć uwagę na ilość widocznych szczegółów.\n",
    "2. Rozciągnij histogram obrazu. W tym celu można wykorzystać funkcję `cv2.normalize`.\n",
    "    - Pierwszym argumentem funkcji jest obraz poddawany operacji.\n",
    "    - Drugim argumentem jest tablica do której zostanie wpisany wynik.\n",
    "    Należy ją najpierw zainicjalizować.\n",
    "    Najlepiej zrobić to funkcją `np.zeros`, której pierwszym argumentem jest rozmiar obrazu (`I.shape`), a drugim typ danych (`uint8`).\n",
    "    Można również przekazać `None`, a wynik przypisać do nowej zmiennej.\n",
    "    - Trzecim argumentem jest minimalna wartość po normalizacji.\n",
    "    - Czwartym argumentem jest wartość maksymalna po normalizacji.\n",
    "    - Ostatnim argumentem jest typ wykorzystanej normy (uogólnienie pojęcia długości wektora).\n",
    "    Należy wykorzystać normę `cv2.NORM_MINMAX`.\n",
    "3. Wyświetl obraz oryginalny, po wykonanej operacji oraz ich histogramy.\n",
    "4. Czy ilość \"widocznych\" szczegółów uległa zmianie?"
   ]
  },
  {
   "cell_type": "code",
   "execution_count": null,
   "metadata": {
    "id": "9dmix38-cDvW",
    "pycharm": {
     "name": "#%% Zadanie 2 - rozciąganie\n"
    }
   },
   "outputs": [],
   "source": [
    "fileName = 'hist1.bmp'\n",
    "if not os.path.exists(fileName) :\n",
    "    r = requests.get(url + fileName, allow_redirects=True)\n",
    "    open(fileName, 'wb').write(r.content)\n",
    "\n",
    "fileName = 'hist2.bmp'\n",
    "if not os.path.exists(fileName) :\n",
    "    r = requests.get(url + fileName, allow_redirects=True)\n",
    "    open(fileName, 'wb').write(r.content)\n",
    "\n",
    "fileName = 'hist3.bmp'\n",
    "if not os.path.exists(fileName) :\n",
    "    r = requests.get(url + fileName, allow_redirects=True)\n",
    "    open(fileName, 'wb').write(r.content)\n",
    "\n",
    "fileName = 'hist4.bmp'\n",
    "if not os.path.exists(fileName) :\n",
    "    r = requests.get(url + fileName, allow_redirects=True)\n",
    "    open(fileName, 'wb').write(r.content)"
   ]
  },
  {
   "cell_type": "code",
   "execution_count": null,
   "metadata": {},
   "outputs": [],
   "source": [
    "img1 = cv2.imread('hist1.bmp', cv2.IMREAD_GRAYSCALE)\n",
    "img2 = cv2.imread('hist2.bmp', cv2.IMREAD_GRAYSCALE)\n",
    "img3 = cv2.imread('hist3.bmp', cv2.IMREAD_GRAYSCALE)\n",
    "img4 = cv2.imread('hist4.bmp', cv2.IMREAD_GRAYSCALE)\n",
    "\n",
    "hist1 = cv2.calcHist([img1], [0], None, [256], [0, 256])\n",
    "hist2 = cv2.calcHist([img2], [0], None, [256], [0, 256])\n",
    "hist3 = cv2.calcHist([img3], [0], None, [256], [0, 256])\n",
    "hist4 = cv2.calcHist([img4], [0], None, [256], [0, 256])\n",
    "\n",
    "fig, axs = plt.subplots(2, 4)\n",
    "fig.set_size_inches(20, 10)\n",
    "axs[0, 0].axis('off')\n",
    "axs[0, 0].imshow(img1, 'gray', vmin=0, vmax=256)\n",
    "axs[1, 0].plot(hist1)\n",
    "axs[0, 1].axis('off')\n",
    "axs[0, 1].imshow(img2, 'gray', vmin=0, vmax=256)\n",
    "axs[1, 1].plot(hist2)\n",
    "axs[0, 2].axis('off')\n",
    "axs[0, 2].imshow(img3, 'gray', vmin=0, vmax=256)\n",
    "axs[1, 2].plot(hist3)\n",
    "axs[0, 3].axis('off')\n",
    "axs[0, 3].imshow(img4, 'gray', vmin=0, vmax=256)\n",
    "axs[1, 3].plot(hist4)"
   ]
  },
  {
   "cell_type": "code",
   "execution_count": null,
   "metadata": {},
   "outputs": [],
   "source": [
    "norm_img1 = cv2.normalize(img1, None, 0, 256, cv2.NORM_MINMAX)\n",
    "norm_img2 = cv2.normalize(img2, None, 0, 256, cv2.NORM_MINMAX)\n",
    "norm_img3 = cv2.normalize(img3, None, 0, 256, cv2.NORM_MINMAX)\n",
    "norm_img4 = cv2.normalize(img4, None, 0, 256, cv2.NORM_MINMAX)\n",
    "\n",
    "fig, axs = plt.subplots(3, 4)\n",
    "fig.set_size_inches(20, 10)\n",
    "axs[0, 0].axis('off')\n",
    "axs[0, 0].imshow(img1, 'gray', vmin=0, vmax=256)\n",
    "axs[1, 0].axis('off')\n",
    "axs[1, 0].imshow(norm_img1, 'gray', vmin=0, vmax=256)\n",
    "axs[2, 0].plot(cv2.calcHist([norm_img1], [0], None, [256], [0, 256]))\n",
    "axs[0, 1].axis('off')\n",
    "axs[0, 1].imshow(img2, 'gray', vmin=0, vmax=256)\n",
    "axs[1, 1].axis('off')\n",
    "axs[1, 1].imshow(norm_img2, 'gray', vmin=0, vmax=256)\n",
    "axs[2, 1].plot(cv2.calcHist([norm_img2], [0], None, [256], [0, 256]))\n",
    "axs[0, 2].axis('off')\n",
    "axs[0, 2].imshow(img3, 'gray', vmin=0, vmax=256)\n",
    "axs[1, 2].axis('off')\n",
    "axs[1, 2].imshow(norm_img3, 'gray', vmin=0, vmax=256)\n",
    "axs[2, 2].plot(cv2.calcHist([norm_img3], [0], None, [256], [0, 256]))\n",
    "axs[0, 3].axis('off')\n",
    "axs[0, 3].imshow(img4, 'gray', vmin=0, vmax=256)\n",
    "axs[1, 3].axis('off')\n",
    "axs[1, 3].imshow(norm_img4, 'gray', vmin=0, vmax=256)\n",
    "axs[2, 3].plot(cv2.calcHist([norm_img4], [0], None, [256], [0, 256]))"
   ]
  },
  {
   "cell_type": "markdown",
   "metadata": {
    "id": "qQYQVoOEcDvW",
    "pycharm": {
     "name": "#%% md\n"
    }
   },
   "source": [
    "## Wyrównywanie histogramu\n",
    "\n",
    "<div style=\"text-align: justify\">\n",
    "Bardziej zaawansowaną metodą jest tzw. wyrównywanie histogramu (ang. *histogram equalization – HE*).\n",
    "Idea jest następująca: z punktu widzenia lepszego wykorzystania dostępnych poziomów jasności pożądane jest rozciągnięcie \"szczytów\" histogramu, a~skompresowanie \"dolin\" tak, aby taka sama liczba pikseli reprezentowana była przez każdy z dostępnych poziomów jasności (a przynjamniej przybliżona).\n",
    "Warto zwrócić uwagę, że takie przekształcenie powoduje częściową utratę informacji o szczegółach w obszarach \"dolin\".\n",
    "Inaczej mówiąc, dążymy do sytuacji, aby histogram był względnie jednostajny.\n",
    "Operacją, która pozwala wykonać wyrównywanie histogramu, jest przekształcenie LUT z funkcją przejścia w postaci histogramu skumulowanego danego obrazu.</div><br>\n",
    "\n",
    "<div style=\"text-align: justify\">\n",
    "Histogram skumulowany to funkcja obliczona na podstawie histogramu.\n",
    "Jej pierwszy element to liczba pikseli o odcieniu $0$.\n",
    "Kolejne wartości to liczba pikseli o odcieniach od $0$ do $n$.</div>\n",
    "\n",
    "\\begin{equation}\n",
    "C(n) = \\sum_{i=0}^{n} h(i)\n",
    "\\end{equation}\n",
    "\n",
    "<div style=\"text-align: justify\">\n",
    "Jeżeli histogram jest w postaci znormalizowanej (gęstość rozkładu prawdopodobieństwa) to histogram skumulowany stanowi dystrybuantę rozkładu prawdopodobieństwa.</div><br>\n",
    "\n",
    "1. Wyznacz histogram skumulowany dla obrazu *hist1.bmp*.\n",
    "W tym celu wykorzystaj metodę `cumsum` dla histogramu wczytanego obrazu.\n",
    "Nie przyjmuje ona żadnych argumentów, a zwraca skumulowane wartości tablicy, dla której została użyta.\n",
    "Histogram należy wyliczyć dla **obrazka wejściowego**, a nie dla wyniku rozciągania.\n",
    "2. Histogram skumulowany wyświetl razem z histogramem zwykłym na jednym wykresie (nie obok siebie).\n",
    "Na potrzeby wyświetlenia przeskaluj histogram skumulowany tak, by miał taką samą wartość maksymalną jak zwykły histogram.\n",
    "W tym celu wykorzystaj metodę `max`.\n",
    "3. Wyświetlenie kilku linii na jednym wykresie może być zrealizowane w następujący sposób:\n",
    "        figHistCum, axsHistCum = plt.subplots()\n",
    "\n",
    "        axsHistCum.plot(HHist)\n",
    "        axsHistCum.plot(CHistNorm)\n",
    "        axsHistCum.grid()\n",
    "4. Teraz zaimplementuj klasyczny algorytm wyrównywania histogramu.\n",
    "Wykorzystać należy obliczony histogram skumulowany.\n",
    "Należy go przeskalować w taki sposób aby na jego podstawie zrealizować przekształcenie LUT, czyli do zakresu 0 - 255.\n",
    "\n",
    ">Uwaga. Opisany algorytm wyrównywania histogramu jest wersją uproszczoną.\n",
    ">W wersji pełnej należy podczas skalowania tablicy przekodowań LUT pominąć elementy równe *0*.\n",
    ">\n",
    ">W tym celu należy wykorzystać funkcje `np.ma.masked_equal` i `np.ma.filled`.\n",
    ">Pierwsza służy do ukrywania elementów tablicy, natomiast druga zamienia ukryte elementy na podaną wartość.\n",
    ">W tym przypadku elementem ukrywanym i wpisywaną wartością byłoby *0*.\n",
    "\n",
    "5. Na kolejnym rysunku wyświetl obrazek po przekształceniu, jego histogram oraz histogram skumulowany.\n",
    "Co szczególnego można powiedzieć o jego histogramie i histogramie skumulowanym?\n",
    "6. W bibliotece *OpenCV* dostępna jest funkcja wykonująca wyrównywanie histogramu `cv2.equalizeHist`.\n",
    "Jej argumentem jest obraz, którego histogram zostanie wyrównany. Zwraca natomiast obraz wynikowy.\n",
    "Na kolejnym rysunku wyświetl wynik funkcji, jego histogram oraz histogram skumulowany.\n",
    "7. W wykorzystywanej bibliotece zaimplementowana jest również metoda adaptacyjnego wyrównywania histogramu algorytmem CLAHE (ang. *Contrast Limited Adaptive Histogram Equalization*}.\n",
    "   Kilka słów wyjaśnienia.\n",
    "   Wadą poznanej metody HE jest jej \"globalność\" rozumiana jako nieuwzględnianie lokalnych właściwości obrazu.\n",
    "   Dlatego też powstała metoda adaptacyjnego wyrównywania histogramu (AHE).\n",
    "   Jest ona spotykana w dwóch wariantach:\n",
    "   - dla każdego piksela niezależnie, w pewnym jego otoczeniu, wyznaczany jest histogram i przeprowadzane wyrównywanie.\n",
    "     Jak nietrudno się domyślić rozwiązanie jest dość kosztowne obliczeniowo.\n",
    "   - obraz wejściowy dzielony jest na nienachodzące na siebie prostokątne okna.\n",
    "     W każdym z okien obliczany jest histogram i przeprowadzane jest wyrównywanie.\n",
    "     W celu eliminacji błędów na granicy okien, stosuje się interpolację.\n",
    "\n",
    "   Metoda AHE ma jednak tą wadę, że w obszarach jednorodnych wzmacnia szum.\n",
    "   Dlatego też zaproponowano rozwiązanie CLAHE, które zakłada ograniczenie kontrastu (CL).\n",
    "   W metodzie definiuje się maksymalną wartość danego przedziału histogramu (próg ograniczenia kontrastu).\n",
    "   Piksele, które przekraczają próg są następnie równomiernie rozdzielane pomiędzy poszczególne przedziały.\n",
    "   Bardziej szczegółowy opis obu metod dostępny jest na [Wikipedii](https://en.wikipedia.org/wiki/Adaptive_histogram_equalization).\n",
    "\n",
    "8.W celu użycia algorytmu należy wywołać funkcję `cv2.createCLAHE`.\n",
    "    - Pierwszym parametrem jest próg ograniczenia kontrastu.\n",
    "    - Drugi parametr definiuje na ile prostokątów zostanie podzielony obraz w rzęch i kolumnach.\n",
    "    - Zwracany jest zainicjalizowany *smart pointer* do klasy `cv::CLAHE`\n",
    "    <a/>\n",
    "\n",
    "9. Aby wykonać wyrównywanie należy użyć metody `apply`.\n",
    "Jej argumentem jest obraz wejściowy. Zwracany jest obraz o zmodyfikowanym histogramie.\n",
    "\n",
    "10. Przetestuj różne parametry algorytmu CLAHE.\n",
    "\n",
    "11. W kolejnym etapie należy przetestować operacje (rozciąganie, wyrównywanie (HE) i adaptacyjne wyrównywanie CLAHE)  na histogramie dla obrazów rzeczywistych. *hist2.bmp*, *hist3.bmp*, *hist4.jpg*.\n",
    "W jednym oknie wyświetl: obraz oryginalny, rozciąganie, wyrównywanie HE oraz wyrównywanie CLAHE."
   ]
  },
  {
   "cell_type": "code",
   "execution_count": null,
   "metadata": {
    "id": "Hthp3Q0WcDvX",
    "pycharm": {
     "name": "#%% Zadanie 3 - histogram skumulowany\n"
    }
   },
   "outputs": [],
   "source": [
    "# 1)\n",
    "csum1 = np.cumsum(hist1)\n",
    "# 2-3) \n",
    "fig, ax1 = plt.subplots()\n",
    "ax2 = ax1.twinx()\n",
    "ax1.plot(hist1, label=\"Regular histogram\")\n",
    "ax2.plot(csum1, color=\"C2\", label=\"Cumulative histogram\")\n",
    "ax1.legend(loc=2)\n",
    "ax2.legend(loc=5)\n",
    "plt.show()"
   ]
  },
  {
   "cell_type": "code",
   "execution_count": null,
   "metadata": {
    "id": "xxEuLreccDvY",
    "pycharm": {
     "name": "#%% Zadanie 3 - wyrównywanie\n"
    }
   },
   "outputs": [],
   "source": [
    "def classic_equalize(img):\n",
    "    row, col = img.shape\n",
    "    chist = np.cumsum(cv2.calcHist([img], [0], None, [256], [0, 256]))\n",
    "    np.ma.masked_equal(chist, 0)\n",
    "    np.ma.filled(chist)\n",
    "    for i in range(0, len(chist)):\n",
    "        chist[i] = int((chist[i]/(chist[len(chist)-1]))*img.max())\n",
    "        \n",
    "    result = img.copy()\n",
    "    \n",
    "    for i in range(row):\n",
    "        for j in range(col):\n",
    "            result[i][j] = chist[img[i][j]]\n",
    "    \n",
    "    return result\n",
    "    \n",
    "    \n",
    "eq_img1 = classic_equalize(img1)\n",
    "eq_hist1 = cv2.calcHist([eq_img1], [0], None, [256], [0, 256])\n",
    "fig, axs = plt.subplots(1, 3)\n",
    "fig.set_size_inches(20, 10)\n",
    "axs[0].axis('off')\n",
    "axs[0].imshow(eq_img1, 'gray', vmin=0, vmax=256)\n",
    "axs[1].plot(eq_hist1)\n",
    "axs[2].plot(np.cumsum(eq_hist1))"
   ]
  },
  {
   "cell_type": "code",
   "execution_count": null,
   "metadata": {
    "id": "EajsxfqncDvY",
    "pycharm": {
     "name": "#%% Zadanie 3 - wyrównywanie OpenCV\n"
    }
   },
   "outputs": [],
   "source": [
    "eq1_img1 = cv2.equalizeHist(img1)\n",
    "\n",
    "eq1_hist1 = cv2.calcHist([eq1_img1], [0], None, [256], [0, 256])\n",
    "fig, axs = plt.subplots(1, 3)\n",
    "fig.set_size_inches(20, 10)\n",
    "axs[0].axis('off')\n",
    "axs[0].imshow(eq1_img1, 'gray', vmin=0, vmax=256)\n",
    "axs[1].plot(eq1_hist1)\n",
    "axs[2].plot(np.cumsum(eq1_hist1))"
   ]
  },
  {
   "cell_type": "code",
   "execution_count": null,
   "metadata": {
    "id": "xOEFxbVrcDvY",
    "pycharm": {
     "name": "#%% Zadanie 3 - CLAHE\n"
    }
   },
   "outputs": [],
   "source": [
    "clahe1 = cv2.createCLAHE(clipLimit=2.0, tileGridSize=(8,8))\n",
    "cl1 = clahe1.apply(img1)\n",
    " \n",
    "plt.axis('off')\n",
    "plt.imshow(cl1, 'gray')"
   ]
  },
  {
   "cell_type": "code",
   "execution_count": null,
   "metadata": {},
   "outputs": [],
   "source": [
    "clahe2 = cv2.createCLAHE(clipLimit=5.0, tileGridSize=(2,2))\n",
    "cl2 = clahe2.apply(img1)\n",
    " \n",
    "plt.axis('off')\n",
    "plt.imshow(cl1, 'gray')"
   ]
  },
  {
   "cell_type": "code",
   "execution_count": null,
   "metadata": {},
   "outputs": [],
   "source": [
    "clahe3 = cv2.createCLAHE(clipLimit=50.0, tileGridSize=(50,50))\n",
    "cl3 = clahe3.apply(img1)\n",
    " \n",
    "plt.axis('off')\n",
    "plt.imshow(cl1, 'gray')"
   ]
  },
  {
   "cell_type": "code",
   "execution_count": null,
   "metadata": {},
   "outputs": [],
   "source": [
    "fig, axs = plt.subplots(4, 3)\n",
    "fig.set_size_inches(20, 10)\n",
    "for i in range(0,4):\n",
    "    for j in range(0,3):\n",
    "        axs[i, j].axis('off')\n",
    "        \n",
    "fig.set_size_inches(20, 10)    \n",
    "axs[0, 0].imshow(img2, 'gray', vmin=0, vmax=256)\n",
    "axs[1, 0].imshow(cv2.normalize(img2, None, 0, 256, cv2.NORM_MINMAX), 'gray', vmin=0, vmax=256)\n",
    "axs[2, 0].imshow(classic_equalize(img2), 'gray', vmin=0, vmax=256)\n",
    "axs[3, 0].imshow(cv2.createCLAHE(clipLimit=2.0, tileGridSize=(8,8)).apply(img2), 'gray', vmin=0, vmax=256)\n",
    "\n",
    "axs[0, 1].imshow(img3, 'gray', vmin=0, vmax=256)\n",
    "axs[1, 1].imshow(cv2.normalize(img3, None, 0, 256, cv2.NORM_MINMAX), 'gray', vmin=0, vmax=256)\n",
    "axs[2, 1].imshow(classic_equalize(img3), 'gray', vmin=0, vmax=256)\n",
    "axs[3, 1].imshow(cv2.createCLAHE(clipLimit=2.0, tileGridSize=(8,8)).apply(img3), 'gray', vmin=0, vmax=256)\n",
    "\n",
    "axs[0, 2].imshow(img4, 'gray', vmin=0, vmax=256)\n",
    "axs[1, 2].imshow(cv2.normalize(img4, None, 0, 256, cv2.NORM_MINMAX), 'gray', vmin=0, vmax=256)\n",
    "axs[2, 2].imshow(classic_equalize(img4), 'gray', vmin=0, vmax=256)\n",
    "axs[3, 2].imshow(cv2.createCLAHE(clipLimit=2.0, tileGridSize=(8,8)).apply(img4), 'gray', vmin=0, vmax=256)"
   ]
  },
  {
   "cell_type": "markdown",
   "metadata": {
    "id": "C9WYAOJTcDvZ",
    "pycharm": {
     "name": "#%% md\n"
    }
   },
   "source": [
    "## Histogram dla obrazów kolorowych i jego wyrównywanie\n",
    "\n",
    "1. Wczytaj obraz *lenaRGB.bmp*.\n",
    "2. Wykonaj konwersję przestrzeni barw z BGR do RGB.\n",
    "3. Wyświetl wczytany obraz oraz histogram dla każdej składowej przestrzeni barw.\n",
    "W tym celu można użyć drugiego argumentu wykorzystywanej funkcji (numer kanału).\n",
    "4. Wykonaj wyrównywanie dla każdej składowej obrazu. Połącz otrzymane składowe w nowy obraz i wyświetl go.\n",
    "Jaka jest zasadnicza wada takiego podejścia?\n",
    "5. Przekształć obraz wejściowy do przestrzeni HSV (flaga `cv2.COLOR_BGR2HSV`).\n",
    "Wyświetl histogramy poszczególnych składowych.\n",
    "Manipulacji dokonujemy na składowej odpowiadającej za jasność, czyli V.\n",
    "Wykonaj wyrównywanie histogramu dla tej składowej.\n",
    "Dokonaj podmiany składowej V i wyświetl rezultat operacji.\n",
    "Uprzednio przeprowadź konwersję HSV->RGB (flaga `cv2.COLOR_HSV2RGB`).\n",
    "6. Wykonaj te same operacje dla obrazu *jezioro.jpg*."
   ]
  },
  {
   "cell_type": "code",
   "execution_count": null,
   "metadata": {
    "id": "y5T31GV3cDvZ",
    "pycharm": {
     "name": "#%% Zadanie 4 - histogram\n"
    }
   },
   "outputs": [],
   "source": [
    "fileName = 'lenaRGB.bmp'\n",
    "if not os.path.exists(fileName) :\n",
    "    r = requests.get(url + fileName, allow_redirects=True)\n",
    "    open(fileName, 'wb').write(r.content)\n",
    "\n",
    "fileName = 'jezioro.jpg'\n",
    "if not os.path.exists(fileName) :\n",
    "    r = requests.get(url + fileName, allow_redirects=True)\n",
    "    open(fileName, 'wb').write(r.content)"
   ]
  },
  {
   "cell_type": "code",
   "execution_count": null,
   "metadata": {
    "id": "vzj4kEtOcDva",
    "pycharm": {
     "name": "#%% Zadanie 4 - wyrównanie\n"
    }
   },
   "outputs": [],
   "source": [
    "img1 = cv2.imread('lenaRGB.bmp')\n",
    "img2 = cv2.imread('jezioro.jpg')\n",
    "\n",
    "img1 = cv2.cvtColor(img1, cv2.COLOR_BGR2RGB)\n",
    "img2 = cv2.cvtColor(img2, cv2.COLOR_BGR2RGB)\n",
    "\n",
    "fig, axs = plt.subplots(2, 4)\n",
    "fig.set_size_inches(20, 10)\n",
    "axs[0, 0].axis('off')\n",
    "axs[0, 0].imshow(img1, vmin=0, vmax=256)\n",
    "axs[0, 1].plot(cv2.calcHist([img1], [0], None, [256], [0, 256]))\n",
    "axs[0, 2].plot(cv2.calcHist([img1], [1], None, [256], [0, 256]))\n",
    "axs[0, 3].plot(cv2.calcHist([img1], [2], None, [256], [0, 256]))\n",
    "\n",
    "axs[1, 0].axis('off')\n",
    "axs[1, 0].imshow(img2, vmin=0, vmax=256)\n",
    "axs[1, 1].plot(cv2.calcHist([img2], [0], None, [256], [0, 256]))\n",
    "axs[1, 2].plot(cv2.calcHist([img2], [1], None, [256], [0, 256]))\n",
    "axs[1, 3].plot(cv2.calcHist([img2], [2], None, [256], [0, 256]))"
   ]
  },
  {
   "cell_type": "code",
   "execution_count": null,
   "metadata": {
    "id": "sExCMbOYcDva",
    "pycharm": {
     "name": "#%% Zadanie 4 - HSV histogram\n"
    }
   },
   "outputs": [],
   "source": [
    "def classic_equalize_color(img, channel):\n",
    "    tmp = cv2.cvtColor(img, cv2.COLOR_RGB2GRAY)\n",
    "    row, col = tmp.shape\n",
    "    chist = np.cumsum(cv2.calcHist([img], [channel], None, [256], [0, 256]))\n",
    "    np.ma.masked_equal(chist, 0)\n",
    "    np.ma.filled(chist)\n",
    "    for i in range(0, len(chist)):\n",
    "        chist[i] = int((chist[i]/(chist[len(chist)-1]))*img.max())\n",
    "        \n",
    "    result = img.copy()\n",
    "    \n",
    "    for i in range(row):\n",
    "        for j in range(col):\n",
    "            result[i][j] = chist[img[i][j]]\n",
    "    \n",
    "    return result\n",
    "\n",
    "img_sum = cv2.add(cv2.add(classic_equalize_color(img1, 2), classic_equalize_color(img1, 1)), classic_equalize_color(img1, 0))\n",
    "plt.imshow(img_sum)"
   ]
  },
  {
   "cell_type": "code",
   "execution_count": null,
   "metadata": {
    "id": "AGV4sG7TcDvb",
    "pycharm": {
     "name": "#%% Zadanie 4 - HSV wyrównanie\n"
    }
   },
   "outputs": [],
   "source": [
    "img_sum = cv2.add(cv2.add(classic_equalize_color(img2, 0), classic_equalize_color(img2, 1)), classic_equalize_color(img2, 2))\n",
    "plt.imshow(img_sum)"
   ]
  },
  {
   "cell_type": "code",
   "execution_count": null,
   "metadata": {},
   "outputs": [],
   "source": [
    "img1 = cv2.cvtColor(img1, cv2.COLOR_BGR2HSV)\n",
    "img2 = cv2.cvtColor(img2, cv2.COLOR_BGR2HSV)\n",
    "\n",
    "fig, axs = plt.subplots(2, 4)\n",
    "fig.set_size_inches(20, 10)\n",
    "axs[0, 0].axis('off')\n",
    "axs[0, 0].imshow(img1, vmin=0, vmax=256)\n",
    "axs[0, 1].plot(cv2.calcHist([img1], [0], None, [256], [0, 256]))\n",
    "axs[0, 2].plot(cv2.calcHist([img1], [1], None, [256], [0, 256]))\n",
    "axs[0, 3].plot(cv2.calcHist([img1], [2], None, [256], [0, 256]))\n",
    "\n",
    "axs[1, 0].axis('off')\n",
    "axs[1, 0].imshow(img2, vmin=0, vmax=256)\n",
    "axs[1, 1].plot(cv2.calcHist([img2], [0], None, [256], [0, 256]))\n",
    "axs[1, 2].plot(cv2.calcHist([img2], [1], None, [256], [0, 256]))\n",
    "axs[1, 3].plot(cv2.calcHist([img2], [2], None, [256], [0, 256]))"
   ]
  },
  {
   "cell_type": "code",
   "execution_count": null,
   "metadata": {},
   "outputs": [],
   "source": [
    "eq_img1 = classic_equalize_color(img1, 2)\n",
    "eq_img2 = classic_equalize_color(img2, 2)\n",
    "\n",
    "eq_img1 = cv2.cvtColor(eq_img1, cv2.COLOR_HSV2BGR)\n",
    "eq_img2 = cv2.cvtColor(eq_img2, cv2.COLOR_HSV2BGR)\n",
    "\n",
    "fig, axs = plt.subplots(1,2)\n",
    "fig.set_size_inches(20, 10)\n",
    "axs[0].axis('off')\n",
    "axs[0].imshow(eq_img1)\n",
    "axs[1].axis('off')\n",
    "axs[1].imshow(eq_img2)"
   ]
  }
 ],
 "metadata": {
  "colab": {
   "collapsed_sections": [],
   "provenance": []
  },
  "kernelspec": {
   "display_name": "Python 3 (ipykernel)",
   "language": "python",
   "name": "python3"
  },
  "language_info": {
   "codemirror_mode": {
    "name": "ipython",
    "version": 3
   },
   "file_extension": ".py",
   "mimetype": "text/x-python",
   "name": "python",
   "nbconvert_exporter": "python",
   "pygments_lexer": "ipython3",
   "version": "3.11.5"
  }
 },
 "nbformat": 4,
 "nbformat_minor": 1
}
