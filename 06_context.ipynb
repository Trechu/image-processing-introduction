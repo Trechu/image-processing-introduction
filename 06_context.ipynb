{
 "cells": [
  {
   "cell_type": "markdown",
   "metadata": {
    "id": "PzvFXKTPuTVj"
   },
   "source": [
    "# Przetwarzanie wstępne. Filtracja kontekstowa.\n",
    "\n",
    "\n",
    "### Cel:\n",
    "- zapoznanie z pojęciem kontekstu / filtracji kontekstowej,\n",
    "- zapoznanie z pojęciem konwolucji (splotu),\n",
    "- zapoznanie z wybranymi filtrami:\n",
    "\t- filtry liniowe dolnoprzepustowe:\n",
    "\t\t- filtr uśredniający,\n",
    "\t\t- filtr Gaussa.\n",
    "\t- filtry nielinowe:\n",
    "\t\t- mediana,\n",
    "\t\t- mediana dla obrazów kolorowych.\n",
    "\t- filtry liniowe górnoprzepustowe:\n",
    "\t\t\t- laplasjan,\n",
    "\t\t\t- operator Robersta, Prewitta, Sobela.\n",
    "- zadanie domowe: adaptacyjna filtracja medianowa.\n",
    "\n",
    "### Filtry liniowe uśredniające (dolnoprzepustowe)\n",
    "\n",
    "Jest to podstawowa rodzina filtrów stosowana w cyfrowym przetwarzaniu obrazów. \n",
    "Wykorzystuje się je w celu \"rozmazania\" obrazu i tym samym redukcji szumów (zakłóceń) na obrazie.\n",
    "Filtr określony jest przez dwa parametry: rozmiar maski (ang. _kernel_) oraz wartości współczynników maski.\n",
    "\n",
    "Warto zwrócić uwagę, że omawiane w niniejszym rozdziale operacje generują nową wartość piksela na podstawie pewnego fragmentu obrazu (tj. kontekstu), a nie jak operacje punktowe tylko na podstawie jednego piksela.\n",
    "\n",
    "\n",
    "1. Wczytaj obraz _plansza.png_.\n",
    "W dalszej części ćwiczenia sprawdzenie działania filtracji dla innych obrazów sprowadzi się do wczytania innego pliku.\n",
    "\n",
    "2. Podstawowa funkcja to `cv2.filter2D`  - realizacja filtracji konwolucyjnej.\n",
    "   Proszę sprawdzić jej dokumentację i zwrócić uwagę na obsługę problemu brzegowego (na krawędziach istnieją piksele dla których nie da się wyznaczyć otoczenia).\n",
    "\n",
    "  Uwaga. Problem ten można też rozwiązać z użyciem funkcji `signal.convolve2d` z biblioteki _scipy_ (`from scipy import signal`).\n",
    "\n",
    "3. Stwórz podstawowy filtr uśredniający o rozmiarze $3 \\times 3$ -- za pomocą funkcji `np.ones`. Wykonaj konwolucję na wczytanym obrazie. Na wspólnym rysunku wyświetl obraz oryginalny, po filtracji oraz moduł z różnicy.\n",
    "\n",
    "4. Przeanalizuj otrzymane wyniki. Jakie elementy zawiera obraz \"moduł z różnicy\"? Co na tej podstawie można powiedzieć o filtracji dolnoprzepustowej?"
   ]
  },
  {
   "cell_type": "code",
   "execution_count": null,
   "metadata": {
    "execution": {
     "iopub.execute_input": "2025-01-21T14:06:58.450693Z",
     "iopub.status.busy": "2025-01-21T14:06:58.450693Z",
     "iopub.status.idle": "2025-01-21T14:07:02.669874Z",
     "shell.execute_reply": "2025-01-21T14:07:02.669874Z",
     "shell.execute_reply.started": "2025-01-21T14:06:58.450693Z"
    },
    "id": "S4Cq3WvAuTVm"
   },
   "outputs": [],
   "source": [
    "import cv2\n",
    "import os\n",
    "import requests\n",
    "from matplotlib import pyplot as plt\n",
    "import numpy as np\n",
    "from scipy import signal\n",
    "\n",
    "url = 'https://raw.githubusercontent.com/vision-agh/poc_sw/master/06_Context/'\n",
    "\n",
    "fileNames = [\"jet.png\", \"kw.png\", \"moon.png\", \"lenaSzum.png\", \"lena.png\", \"plansza.png\"]\n",
    "for fileName in fileNames:\n",
    "  if not os.path.exists(fileName):\n",
    "      r = requests.get(url + fileName, allow_redirects=True)\n",
    "      open(fileName, 'wb').write(r.content)\n",
    "\n",
    "img_plansza = cv2.imread(\"plansza.png\")\n",
    "img_plansza = cv2.cvtColor(img_plansza, cv2.COLOR_BGR2GRAY)\n",
    "\n",
    "kernel_ones = np.ones((3,3))\n",
    "\n",
    "fig, axs = plt.subplots(1,3)\n",
    "fig.set_size_inches(15, 8)\n",
    "axs[0].axis('off')\n",
    "axs[1].axis('off')\n",
    "axs[2].axis('off')\n",
    "axs[0].imshow(img_plansza, 'gray')\n",
    "img_plansza_filtered = (signal.convolve2d(img_plansza, kernel_ones, mode='same', boundary='symm')/9).astype(int)\n",
    "print(type(img_plansza))\n",
    "print(type(img_plansza_filtered))\n",
    "axs[1].imshow(img_plansza_filtered, 'gray')\n",
    "axs[2].imshow(abs(np.subtract(img_plansza, img_plansza_filtered)), 'gray')"
   ]
  },
  {
   "cell_type": "markdown",
   "metadata": {
    "id": "10zj2sOTuTVo"
   },
   "source": [
    "5. Na wspólnym rysunku wyświetl wyniki filtracji uśredniającej z oknem o rozmiarze 3, 5, 9, 15 i 35. \n",
    "Wykorzystaj polecenie `plt.subplot`. \n",
    "Przeanalizuj wpływ rozmiaru maski na wynik. "
   ]
  },
  {
   "cell_type": "code",
   "execution_count": null,
   "metadata": {
    "execution": {
     "iopub.execute_input": "2025-01-21T14:07:02.673764Z",
     "iopub.status.busy": "2025-01-21T14:07:02.672213Z",
     "iopub.status.idle": "2025-01-21T14:07:04.687331Z",
     "shell.execute_reply": "2025-01-21T14:07:04.687331Z",
     "shell.execute_reply.started": "2025-01-21T14:07:02.673764Z"
    },
    "id": "Cmf-hkCruTVo"
   },
   "outputs": [],
   "source": [
    "def apply_filtration(img, kernel_size):\n",
    "    return (signal.convolve2d(img, np.ones((kernel_size, kernel_size)), mode='full', boundary='fill', fillvalue=0))/kernel_size\n",
    "\n",
    "fig, axs = plt.subplots(1,5)\n",
    "fig.set_size_inches(15, 8)\n",
    "axs[0].axis('off')\n",
    "axs[0].set_title('3x3')\n",
    "axs[1].axis('off')\n",
    "axs[1].set_title('5x5')\n",
    "axs[2].axis('off')\n",
    "axs[2].set_title('9x9')\n",
    "axs[3].axis('off')\n",
    "axs[3].set_title('15x15')\n",
    "axs[4].axis('off')\n",
    "axs[4].set_title('35x35')\n",
    "axs[0].imshow(apply_filtration(img_plansza, 3), 'gray')\n",
    "axs[1].imshow(apply_filtration(img_plansza, 5), 'gray')\n",
    "axs[2].imshow(apply_filtration(img_plansza, 9), 'gray')\n",
    "axs[3].imshow(apply_filtration(img_plansza, 15), 'gray')\n",
    "axs[4].imshow(apply_filtration(img_plansza, 35), 'gray')"
   ]
  },
  {
   "cell_type": "markdown",
   "metadata": {
    "id": "zHlUB4tZuTVo"
   },
   "source": [
    "6. Wczytaj obraz _lena.png_.\n",
    "Zaobserwuj efekty filtracji dolnoprzepustowej dla obrazu rzeczywistego."
   ]
  },
  {
   "cell_type": "code",
   "execution_count": null,
   "metadata": {
    "execution": {
     "iopub.execute_input": "2025-01-21T14:07:04.691053Z",
     "iopub.status.busy": "2025-01-21T14:07:04.691053Z",
     "iopub.status.idle": "2025-01-21T14:07:06.446154Z",
     "shell.execute_reply": "2025-01-21T14:07:06.446154Z",
     "shell.execute_reply.started": "2025-01-21T14:07:04.691053Z"
    },
    "id": "Ed9hL_iWuTVp"
   },
   "outputs": [],
   "source": [
    "img_lena = cv2.imread(\"lena.png\")\n",
    "img_lena = cv2.cvtColor(img_lena, cv2.COLOR_BGR2GRAY)\n",
    "\n",
    "fig, axs = plt.subplots(1,4)\n",
    "fig.set_size_inches(15, 8)\n",
    "axs[0].axis('off')\n",
    "axs[0].set_title('3x3')\n",
    "axs[1].axis('off')\n",
    "axs[1].set_title('5x5')\n",
    "axs[2].axis('off')\n",
    "axs[2].set_title('15x15')\n",
    "axs[3].axis('off')\n",
    "axs[3].set_title('30x30')\n",
    "axs[0].imshow(apply_filtration(img_lena, 3), 'gray')\n",
    "axs[1].imshow(apply_filtration(img_lena, 5), 'gray')\n",
    "axs[2].imshow(apply_filtration(img_lena, 15), 'gray')\n",
    "axs[3].imshow(apply_filtration(img_lena, 30), 'gray')"
   ]
  },
  {
   "cell_type": "markdown",
   "metadata": {
    "id": "t-2FnMuvuTVp"
   },
   "source": [
    "7. Niekorzystny efekt towarzyszący wykonanym filtracjom dolnoprzepustowym to utrata ostrości. \n",
    "Częściowo można go zniwelować poprzez odpowiedni dobór maski. \n",
    "Wykorzystaj maskę:  `M = np.array([1 2 1; 2 4 2; 1 2 1])`. \n",
    "Przed obliczeniami należy jeszcze wykonać normalizację - podzielić każdy element maski przez sumę wszystkich elementów: `M = M/sum(sum(M));`.\n",
    "Tak przygotowaną maskę wykorzystaj w konwolucji - wyświetl wyniki tak jak wcześniej.\n",
    "Możliwe jest też wykorzystywanie innych masek - współczynniki można dopasowywać do konkretnego problemu."
   ]
  },
  {
   "cell_type": "code",
   "execution_count": null,
   "metadata": {
    "execution": {
     "iopub.execute_input": "2025-01-21T14:07:06.446154Z",
     "iopub.status.busy": "2025-01-21T14:07:06.446154Z",
     "iopub.status.idle": "2025-01-21T14:07:07.210889Z",
     "shell.execute_reply": "2025-01-21T14:07:07.209862Z",
     "shell.execute_reply.started": "2025-01-21T14:07:06.446154Z"
    },
    "id": "9-wJsEWcuTVp"
   },
   "outputs": [],
   "source": [
    "kernel_M = np.array([[1, 2, 1], [2, 4, 2], [1, 2, 1]])\n",
    "kernel_M = kernel_M/sum(sum(kernel_M))\n",
    "\n",
    "fig, axs = plt.subplots(1,4)\n",
    "fig.set_size_inches(15, 8)\n",
    "axs[0].axis('off')\n",
    "axs[0].set_title('Oryginał')\n",
    "axs[1].axis('off')\n",
    "axs[1].set_title('Po konwulucji')\n",
    "axs[0].imshow(img_lena, 'gray')\n",
    "axs[1].imshow((signal.convolve2d(img_lena, kernel_M, mode='full', boundary='fill', fillvalue=0)), 'gray')\n",
    "axs[2].axis('off')\n",
    "axs[2].set_title('Oryginał')\n",
    "axs[3].axis('off')\n",
    "axs[3].set_title('Po konwulucji')\n",
    "axs[2].imshow(img_plansza, 'gray')\n",
    "axs[3].imshow((signal.convolve2d(img_plansza, kernel_M, mode='full', boundary='fill', fillvalue=0)), 'gray')"
   ]
  },
  {
   "cell_type": "markdown",
   "metadata": {
    "id": "ybfc6TZCuTVq"
   },
   "source": [
    "8. Skuteczną i często wykorzystywaną maską jest tzw. maska Gasussa.\n",
    "Jest to zbiór liczb, które aproksymują dwuwymiarowy rozkład Gaussa. \n",
    "Parametrem jest odchylenie standardowe i rozmiar maski.\n",
    "\n",
    "9. Wykorzystując przygotowaną funkcję `fgaussian` stwórz maskę o rozmiarze $5 \\times 5$ i odchyleniu standardowym 0.5.\n",
    "  Wykorzystując funkcję `mesh` zwizualizuj filtr.\n",
    "  Sprawdź jak parametr ``odchylenie standardowe'' wpływa na ``kształt'' filtru.\n",
    "\n",
    "  Uwaga. W OpenCV dostępna jest *dedykowana* funkcja do filtracji Gaussa - `GaussianBlur`.\n",
    "  Proszę na jednym przykładzie porównać jej działanie z użytym wyżej rozwiązaniem.\n",
    "\n",
    "10. Wykonaj filtrację dla wybranych (2--3) wartości odchylenia standardowego.\n"
   ]
  },
  {
   "cell_type": "code",
   "execution_count": null,
   "metadata": {
    "execution": {
     "iopub.execute_input": "2025-01-21T14:07:07.210889Z",
     "iopub.status.busy": "2025-01-21T14:07:07.210889Z",
     "iopub.status.idle": "2025-01-21T14:07:08.704222Z",
     "shell.execute_reply": "2025-01-21T14:07:08.704222Z",
     "shell.execute_reply.started": "2025-01-21T14:07:07.210889Z"
    },
    "id": "ZUTDX8IluTVq"
   },
   "outputs": [],
   "source": [
    "def fgaussian(size, sigma):\n",
    "     m = n = size\n",
    "     h, k = m//2, n//2\n",
    "     x, y = np.mgrid[-h:h+1, -k:k+1]\n",
    "     g = np.exp(-(x**2 + y**2)/(2*sigma**2))\n",
    "     return g /g.sum() \n",
    "    \n",
    "    \n",
    "def mesh(fun, size, sigma):\n",
    "    fig = plt.figure()\n",
    "    ax = fig.add_subplot(projection='3d')\n",
    "\n",
    "    X = np.arange(-size//2, size//2, 1)\n",
    "    Y = np.arange(-size//2, size//2, 1)\n",
    "    X, Y = np.meshgrid(X, Y)\n",
    "    Z = fun\n",
    "    \n",
    "    ax.plot_surface(X, Y, Z)\n",
    "    plt.title(f'Size: {size} ; Sigma: {sigma}')\n",
    "    plt.show()\n",
    "    \n",
    "mesh(fgaussian(5, 0.5), 5, 0.5)\n",
    "mesh(fgaussian(5, 0.75), 5, 0.75)\n",
    "mesh(fgaussian(5, 1), 5, 1)\n",
    "mesh(fgaussian(11, 0.5), 11, 0.5)\n",
    "mesh(fgaussian(11, 0.75), 11, 0.75)\n",
    "mesh(fgaussian(11, 2), 11, 2)\n",
    "mesh(cv2.getGaussianKernel(11, 2), 11, 2)"
   ]
  },
  {
   "cell_type": "code",
   "execution_count": null,
   "metadata": {
    "execution": {
     "iopub.execute_input": "2025-01-21T14:07:08.704222Z",
     "iopub.status.busy": "2025-01-21T14:07:08.704222Z",
     "iopub.status.idle": "2025-01-21T14:07:09.586863Z",
     "shell.execute_reply": "2025-01-21T14:07:09.586863Z",
     "shell.execute_reply.started": "2025-01-21T14:07:08.704222Z"
    }
   },
   "outputs": [],
   "source": [
    "def apply_gaussian_filter(img, kernel_size, sigma):\n",
    "    return (signal.convolve2d(img, fgaussian(kernel_size, sigma), mode='full', boundary='fill', fillvalue=0))/kernel_size\n",
    "\n",
    "fig, axs = plt.subplots(1,5)\n",
    "fig.set_size_inches(15, 8)\n",
    "axs[0].axis('off')\n",
    "axs[0].set_title('Oryginał')\n",
    "axs[1].axis('off')\n",
    "axs[1].set_title('5x5, σ-0.5')\n",
    "axs[2].axis('off')\n",
    "axs[2].set_title('5x5, σ-0.75')\n",
    "axs[3].axis('off')\n",
    "axs[3].set_title('5x5, σ-0.9')\n",
    "axs[4].axis('off')\n",
    "axs[4].set_title('5x5, σ-0.9, dedykowana')\n",
    "axs[0].imshow(img_lena, 'gray')\n",
    "axs[1].imshow(apply_gaussian_filter(img_lena, 5, 0.5), 'gray')\n",
    "axs[2].imshow(apply_gaussian_filter(img_lena, 5, 0.75), 'gray')\n",
    "axs[3].imshow(apply_gaussian_filter(img_lena, 5, 0.9), 'gray')\n",
    "axs[4].imshow(cv2.GaussianBlur(img_lena,(5,5),0.9), 'gray')"
   ]
  },
  {
   "cell_type": "markdown",
   "metadata": {
    "id": "bkN2AOHruTVr"
   },
   "source": [
    "### Filtry nieliniowe -- mediana\n",
    "\n",
    "Filtry rozmywające redukują szum, ale niekorzystnie wpływają na ostrość obrazu.\n",
    "Dlatego często wykorzystuje się filtry nieliniowe - np. filtr medianowy (dla przypomnienia: mediana - środkowa wartość w posortowanym ciągu liczb).\n",
    "\n",
    "Podstawowa różnica pomiędzy filtrami liniowymi, a nieliniowymi polega na tym, że przy filtracji liniowej na nową wartość piksela ma wpływ wartość wszystkich pikseli z otoczenia (np. uśrednianie, czasem ważone), natomiast w przypadku filtracji nieliniowej jako nowy piksel wybierana jest któraś z wartości otoczenia - według jakiegoś wskaźnika (wartość największa, najmniejsza czy właśnie mediana).\n",
    "\n",
    "\n",
    "1. Wczytaj obraz _lenaSzum.png_ (losowe 10% pikseli białych lub czarnych - tzw. zakłócenia impulsowe). Przeprowadź filtrację uśredniającą z rozmiarem maski 3x3. Wyświetl, podobnie jak wcześniej, oryginał, wynik filtracji i moduł z różnicy. Wykorzystując funkcję ``cv2.medianBlur` wykonaj filtrację medianową _lenaSzum.png_ (z rozmiarem maski $3 \\times 3$). Wyświetl, podobnie jak wcześniej, oryginał, wynik filtracji i moduł z różnicy. Która filtracja lepiej radzi sobie z tego typu szumem?\n",
    "\n",
    "  Uwaga. Taki sam efekt da również użycie funkcji `signal.medfilt2d`.\n"
   ]
  },
  {
   "cell_type": "code",
   "execution_count": null,
   "metadata": {
    "execution": {
     "iopub.execute_input": "2025-01-21T14:07:09.586863Z",
     "iopub.status.busy": "2025-01-21T14:07:09.586863Z",
     "iopub.status.idle": "2025-01-21T14:07:11.053417Z",
     "shell.execute_reply": "2025-01-21T14:07:11.053417Z",
     "shell.execute_reply.started": "2025-01-21T14:07:09.586863Z"
    },
    "id": "_ICkvyp3uTVr"
   },
   "outputs": [],
   "source": [
    "img_lena_szum = cv2.imread(\"lenaSzum.png\")\n",
    "img_lena_szum = cv2.cvtColor(img_lena_szum, cv2.COLOR_BGR2GRAY)\n",
    "\n",
    "fig, axs = plt.subplots(1,3)\n",
    "fig.set_size_inches(15, 8)\n",
    "fig.suptitle('Filtracaja uśredniająca')\n",
    "axs[0].axis('off')\n",
    "axs[0].imshow(img_lena_szum, 'gray')\n",
    "axs[0].set_title('Oryginał')\n",
    "axs[1].axis('off')\n",
    "axs[1].imshow(apply_filtration(img_lena_szum, 3), 'gray')\n",
    "axs[1].set_title('Wynik filtracji')\n",
    "axs[2].imshow(abs(np.subtract(img_lena_szum, (signal.convolve2d(img_lena_szum, kernel_ones, mode='same', boundary='symm')/9))), 'gray')\n",
    "axs[2].axis('off')\n",
    "axs[2].set_title('Różnica')\n",
    "\n",
    "fig, axs = plt.subplots(1,3)\n",
    "fig.set_size_inches(15, 8)\n",
    "fig.suptitle('Filtracaja medianowa')\n",
    "axs[0].axis('off')\n",
    "axs[0].imshow(img_lena_szum, 'gray')\n",
    "axs[0].set_title('Oryginał')\n",
    "axs[1].axis('off')\n",
    "axs[1].imshow(cv2.medianBlur(img_lena_szum, 3), 'gray')\n",
    "axs[1].set_title('Wynik filtracji')\n",
    "axs[2].imshow(abs(np.subtract(img_lena_szum, cv2.medianBlur(img_lena_szum, 3))), 'gray')\n",
    "axs[2].axis('off')\n",
    "axs[2].set_title('Różnica')"
   ]
  },
  {
   "cell_type": "markdown",
   "metadata": {
    "id": "iSdorMgxuTVr"
   },
   "source": [
    "2. Przeprowadź filtrację uśredniającą, a następnie medianową obrazu _lena.png_.\n",
    "   Wyniki porównaj - dla obu wyświetl: oryginał, wynik filtracji i moduł z różnicy.\n",
    "   Szczególną uwagę zwróć na ostrość i krawędzie.\n",
    "   W której filtracji krawędzie zostają lepiej zachowane?"
   ]
  },
  {
   "cell_type": "code",
   "execution_count": null,
   "metadata": {
    "execution": {
     "iopub.execute_input": "2025-01-21T14:07:11.053417Z",
     "iopub.status.busy": "2025-01-21T14:07:11.053417Z",
     "iopub.status.idle": "2025-01-21T14:07:12.297839Z",
     "shell.execute_reply": "2025-01-21T14:07:12.297839Z",
     "shell.execute_reply.started": "2025-01-21T14:07:11.053417Z"
    },
    "id": "_g2nnTPruTVs"
   },
   "outputs": [],
   "source": [
    "fig, axs = plt.subplots(1,3)\n",
    "fig.set_size_inches(15, 8)\n",
    "fig.suptitle('Filtracaja uśredniająca')\n",
    "axs[0].axis('off')\n",
    "axs[0].imshow(img_lena, 'gray')\n",
    "axs[0].set_title('Oryginał')\n",
    "axs[1].axis('off')\n",
    "axs[1].imshow(apply_filtration(img_lena, 3), 'gray')\n",
    "axs[1].set_title('Wynik filtracji')\n",
    "axs[2].imshow(abs(np.subtract(img_lena, (signal.convolve2d(img_lena, kernel_ones, mode='same', boundary='symm')/9))), 'gray')\n",
    "axs[2].axis('off')\n",
    "axs[2].set_title('Różnica')\n",
    "\n",
    "fig, axs = plt.subplots(1,3)\n",
    "fig.set_size_inches(15, 8)\n",
    "fig.suptitle('Filtracaja medianowa')\n",
    "axs[0].axis('off')\n",
    "axs[0].imshow(img_lena, 'gray')\n",
    "axs[0].set_title('Oryginał')\n",
    "axs[1].axis('off')\n",
    "axs[1].imshow(cv2.medianBlur(img_lena, 3), 'gray')\n",
    "axs[1].set_title('Wynik filtracji')\n",
    "axs[2].imshow(abs(np.subtract(img_lena, cv2.medianBlur(img_lena, 3))), 'gray')\n",
    "axs[2].axis('off')\n",
    "axs[2].set_title('Różnica')"
   ]
  },
  {
   "cell_type": "markdown",
   "metadata": {
    "id": "OOMWoBCJuTVs"
   },
   "source": [
    "3. Ciekawy efekt można uzyskać wykonując filtrację medianową wielokrotnie. Określa się go mianem  posteryzacji.  W wyniku przetwarzania z obrazka usunięte zostają detale, a duże obszary uzyskują tą samą wartość jasności.  Wykonaj operację mediany $5 \\times 5$ na obrazie _lena.png_ 10-krotnie. (wykorzystaj np. pętlę `for`).\n",
    "\n",
    "\n",
    "Inne filtry nieliniowe:\n",
    "- filtr modowy - moda (dominanta) zamiast mediany,\n",
    "- filtr olimpijski - średnia z podzbioru otoczenia (bez wartości ekstremalnych),\n",
    "- hybrydowy filtr medianowy - mediana obliczana osobno w różnych podzbiorach otoczenia (np. kształt ``x'',``+''), a jako wynik brana jest mediana ze zbioru wartość elementu centralnego, mediana z ``x'' i mediana z ``+'',\n",
    "- filtr minimalny i maksymalny (będą omówione przy okazji operacji morfologicznych w dalszej części kursu).\n",
    "\n",
    "\n",
    "Warto zdawać sobie sprawę, z szerokich możliwości dopasowywania rodzaju filtracji do konkretnego rozważanego problemu i rodzaju zaszumienia występującego na obrazie."
   ]
  },
  {
   "cell_type": "code",
   "execution_count": null,
   "metadata": {
    "execution": {
     "iopub.execute_input": "2025-01-21T14:07:12.300864Z",
     "iopub.status.busy": "2025-01-21T14:07:12.299848Z",
     "iopub.status.idle": "2025-01-21T14:07:12.933822Z",
     "shell.execute_reply": "2025-01-21T14:07:12.933822Z",
     "shell.execute_reply.started": "2025-01-21T14:07:12.300864Z"
    },
    "id": "KSFMyFBluTVt"
   },
   "outputs": [],
   "source": [
    "img_lena_mult = cv2.imread(\"lena.png\")\n",
    "img_lena_mult = cv2.cvtColor(img_lena_mult, cv2.COLOR_BGR2GRAY)\n",
    "\n",
    "for i in range(10):\n",
    "    img_lena_mult = cv2.medianBlur(img_lena_mult, 5)\n",
    "\n",
    "fig, axs = plt.subplots(1,3)\n",
    "fig.set_size_inches(15, 8)\n",
    "axs[0].axis('off')\n",
    "axs[0].imshow(img_lena, 'gray')\n",
    "axs[0].set_title('Oryginał')\n",
    "axs[1].axis('off')\n",
    "axs[1].imshow(img_lena_mult, 'gray')\n",
    "axs[1].set_title('Wynik filtracji')\n",
    "axs[2].imshow(abs(np.subtract(img_lena, img_lena_mult)), 'gray')\n",
    "axs[2].axis('off')\n",
    "axs[2].set_title('Różnica')"
   ]
  },
  {
   "cell_type": "markdown",
   "metadata": {
    "id": "qPKUMojBuTVt"
   },
   "source": [
    "## Filtry liniowe górnoprzepustowe (wyostrzające, wykrywające krawędzie)\n",
    "\n",
    "Zadaniem filtrów górnoprzepustowych jest wydobywanie z obrazu składników odpowiedzialnych za szybkie zmiany jasności - konturów, krawędzi, drobnych elementów tekstury.\n",
    "\n",
    "### Laplasjan (wykorzystanie drugiej pochodnej obrazu)\n",
    "\n",
    "1. Wczytaj obraz _moon.png_.\n",
    "\n",
    "2. Wprowadź podstawową maskę laplasjanu:\n",
    "\\begin{equation}\n",
    "M = \n",
    "\\begin{bmatrix}\n",
    "0 & 1& 0 \\\\ 1 & -4 & 1 \\\\ 0 & 1 & 0\n",
    "\\end{bmatrix}\n",
    "\\end{equation}\n",
    "\n",
    "3. Przed rozpoczęciem obliczeń należy dokonać normalizacji maski - dla rozmiaru $3 \\times 3$ podzielić każdy element przez 9.\n",
    "   Proszę zwrócić uwagę, że nie można tu zastosować takiej samej normalizacji, jak dla filtrów dolnoprzepustowanych, gdyż skutkowałby to dzieleniem przez 0.\n",
    "\n",
    "4. Wykonaj konwolucję obrazu z maską (`c2.filter2D`). Przed wyświetleniem, wynikowy obraz należy poddać normalizacji (występują ujemne wartości). Najczęściej wykonuje się jedną z dwóch operacji:\n",
    "- skalowanie (np. poprzez dodatnie 128 do każdego z pikseli),\n",
    "- moduł (wartość bezwzględna).\n",
    "\n",
    "Wykonaj obie normalizacje. \n",
    "Na wspólnym wykresie wyświetl obraz oryginalny oraz przefiltrowany po obu normalizacjach. "
   ]
  },
  {
   "cell_type": "code",
   "execution_count": null,
   "metadata": {
    "execution": {
     "iopub.execute_input": "2025-01-21T15:11:16.238735Z",
     "iopub.status.busy": "2025-01-21T15:11:16.238735Z",
     "iopub.status.idle": "2025-01-21T15:11:16.876479Z",
     "shell.execute_reply": "2025-01-21T15:11:16.875469Z",
     "shell.execute_reply.started": "2025-01-21T15:11:16.238735Z"
    },
    "id": "iDE-NzUzuTVt"
   },
   "outputs": [],
   "source": [
    "img_moon = cv2.imread(\"moon.png\")\n",
    "img_moon = cv2.cvtColor(img_moon, cv2.COLOR_BGR2GRAY)\n",
    "\n",
    "laplace = np.array([[0, 1, 0], [1, -4, 1], [0, 1, 0]])\n",
    "# laplace = laplace/(laplace.size)\n",
    "\n",
    "img_moon_scaled_filtered = cv2.filter2D(src=img_moon, ddepth=-1, kernel=laplace)+128\n",
    "img_moon_abs_filtered = abs(cv2.filter2D(src=img_moon, ddepth=-1, kernel=laplace))\n",
    "\n",
    "fig, axs = plt.subplots(1,3)\n",
    "fig.set_size_inches(15, 8)\n",
    "axs[0].axis('off')\n",
    "axs[0].imshow(img_moon, 'gray')\n",
    "axs[0].set_title('Oryginał')\n",
    "axs[1].axis('off')\n",
    "axs[1].imshow(img_moon_scaled_filtered, 'gray')\n",
    "axs[1].set_title('Wynik filtracji po przeskalowaniu')\n",
    "axs[2].imshow(img_moon_abs_filtered, 'gray')\n",
    "axs[2].axis('off')\n",
    "axs[2].set_title('Wynik filtracji po module')"
   ]
  },
  {
   "cell_type": "markdown",
   "metadata": {
    "id": "jNAsSrd-uTVu"
   },
   "source": [
    "7. Efekt wyostrzenia uzyskuje się po odjęciu/dodaniu (zależy do maski) rezultatu filtracji laplasjanowej i oryginalnego obrazu. Wyświetl na jednym wykresie: obraz oryginalny, sumę oryginału i wyniku filtracji oraz różnicę (bezwzględną) oryginału i wyniku filtracji.\n",
    " Uwaga. Aby uniknąć artefaktów, należy obraz wejściowy przekonwertować do formatu ze znakiem.\n",
    "\n"
   ]
  },
  {
   "cell_type": "code",
   "execution_count": null,
   "metadata": {
    "execution": {
     "iopub.execute_input": "2025-01-21T15:11:19.184382Z",
     "iopub.status.busy": "2025-01-21T15:11:19.183384Z",
     "iopub.status.idle": "2025-01-21T15:11:20.645420Z",
     "shell.execute_reply": "2025-01-21T15:11:20.644408Z",
     "shell.execute_reply.started": "2025-01-21T15:11:19.184382Z"
    },
    "id": "q2-IHdLjuTVu"
   },
   "outputs": [],
   "source": [
    "fig, axs = plt.subplots(1,3)\n",
    "fig.set_size_inches(15, 8)\n",
    "fig.suptitle('Skalowanie', fontsize=20)\n",
    "axs[0].axis('off')\n",
    "axs[0].imshow(img_moon, 'gray')\n",
    "axs[0].set_title('Oryginał')\n",
    "axs[1].axis('off')\n",
    "axs[1].imshow(np.add(img_moon.astype(np.int32), img_moon_scaled_filtered), 'gray')\n",
    "axs[1].set_title('Dodanie obrazów')\n",
    "axs[2].imshow(np.subtract(img_moon.astype(np.int32), img_moon_scaled_filtered), 'gray')\n",
    "axs[2].axis('off')\n",
    "axs[2].set_title('Odjęcie obrazów')\n",
    "\n",
    "fig, axs = plt.subplots(1,3)\n",
    "fig.set_size_inches(15, 8)\n",
    "fig.suptitle('Moduł', fontsize=20)\n",
    "axs[0].axis('off')\n",
    "axs[0].imshow(img_moon, 'gray')\n",
    "axs[0].set_title('Oryginał')\n",
    "axs[1].axis('off')\n",
    "axs[1].imshow(np.add(img_moon.astype(np.int32), img_moon_abs_filtered), 'gray')\n",
    "axs[1].set_title('Dodanie obrazów')\n",
    "axs[2].imshow(abs(np.subtract(img_moon.astype(np.int32), img_moon_abs_filtered)), 'gray')\n",
    "axs[2].axis('off')\n",
    "axs[2].set_title('Odjęcie obrazów')"
   ]
  },
  {
   "cell_type": "markdown",
   "metadata": {
    "id": "s7UEkpUFuTVu"
   },
   "source": [
    "### Gradienty (wykorzystanie pierwszej pochodnej obrazu)\n",
    "\n",
    "1. Wczytaj obraz _kw.png_. Stwórz odpowiednie maski opisane w kolejnych punktach i dokonaj filtracji.\n",
    "2. Wykorzystując gradient Robertsa przeprowadź detekcję krawędzi - poprzez wykonanie konwolucji obrazu z daną maską:\n",
    "\\begin{equation}\n",
    "R1 = \\begin{bmatrix} 0 & 0 & 0 \\\\ -1 & 0 & 0 \\\\ 0 & 1 & 0 \\end{bmatrix}   \n",
    "R2 = \\begin{bmatrix} 0 & 0 & 0 \\\\ 0 & 0 & -1 \\\\ 0 & 1 & 0 \\end{bmatrix}\n",
    "\\end{equation}\n",
    "\n",
    "Wykorzystaj stworzony wcześniej kod (przy laplasjanie) - dwie metody normalizacji oraz sposób wyświetlania.\n",
    "\n",
    "3. Analogicznie przeprowadź detekcję krawędzi za pomocą gradientu Prewitta (pionowy i poziomy)\n",
    "\\begin{equation}\n",
    "P1 = \\begin{bmatrix} -1 & 0 & 1 \\\\ -1 & 0 & 1 \\\\ -1 & 0 & 1 \\end{bmatrix}   \n",
    "P2 = \\begin{bmatrix} -1 & -1 & -1 \\\\ 0 & 0 & 0 \\\\ 1 & 1 & 1 \\end{bmatrix}\n",
    "\\end{equation}\n",
    "\n",
    "4. Podobnie skonstruowany jest gradient Sobela (występuje osiem masek, zaprezentowane są dwie ``prostopadłe''):\n",
    "\\begin{equation}\n",
    "S1 = \\begin{bmatrix} -1 & 0 & 1 \\\\ -2 & 0 & 2 \\\\ -1 & 0 & 1 \\end{bmatrix}   \n",
    "S2 = \\begin{bmatrix} -1 & -2 & -1 \\\\ 0 & 0 & 0 \\\\ 1 & 2 & 1 \\end{bmatrix}\n",
    "\\end{equation}\n",
    "\n",
    "Przeprowadź detekcję krawędzi za pomocą gradientu Sobela. "
   ]
  },
  {
   "cell_type": "code",
   "execution_count": null,
   "metadata": {
    "execution": {
     "iopub.execute_input": "2025-01-21T14:07:14.860578Z",
     "iopub.status.busy": "2025-01-21T14:07:14.860578Z",
     "iopub.status.idle": "2025-01-21T14:07:16.050622Z",
     "shell.execute_reply": "2025-01-21T14:07:16.050102Z",
     "shell.execute_reply.started": "2025-01-21T14:07:14.860578Z"
    },
    "id": "BhwEYhsZuTVv"
   },
   "outputs": [],
   "source": [
    "img_kw = cv2.imread(\"kw.png\")\n",
    "img_kw = cv2.cvtColor(img_kw, cv2.COLOR_BGR2GRAY)\n",
    "\n",
    "r1 = np.array([[0, 0, 0], [-1, 0, 0], [0, 1, 0]])\n",
    "r1 = r1/(r1.size)\n",
    "\n",
    "r2 = np.array([[0, 0, 0], [0, 0, -1], [0, 1, 0]])\n",
    "r2 = r2/(r2.size)\n",
    "\n",
    "p1 = np.array([[-1, 0, 1], [-1, 0, 1], [-1, 0, 1]])\n",
    "p1 = p1/(p1.size)\n",
    "\n",
    "p2 = np.array([[-1, -1, -1], [0, 0, 0], [1, 1, 1]])\n",
    "p2 = p2/(p2.size)\n",
    "\n",
    "s1 = np.array([[-1, 0, 1], [-2, 0, 2], [-1, 0, 1]])\n",
    "s1 = s1/(s1.size)\n",
    "\n",
    "s2 = np.array([[-1, -2, -1], [0, 0, 0], [1, 2, 1]])\n",
    "s2 = s2/(s2.size)\n",
    "\n",
    "fig, axs = plt.subplots(1,3)\n",
    "fig.set_size_inches(15, 8)\n",
    "axs[0].axis('off')\n",
    "axs[0].imshow(img_kw, 'gray')\n",
    "axs[0].set_title('Oryginał')\n",
    "axs[1].axis('off')\n",
    "axs[1].imshow(cv2.filter2D(src=img_kw, ddepth=-1, kernel=r1)+128, 'gray')\n",
    "axs[1].set_title('R1')\n",
    "axs[2].imshow(cv2.filter2D(src=img_kw, ddepth=-1, kernel=r2)+128, 'gray')\n",
    "axs[2].axis('off')\n",
    "axs[2].set_title('R2')\n",
    "\n",
    "fig, axs = plt.subplots(1,3)\n",
    "fig.set_size_inches(15, 8)\n",
    "axs[0].axis('off')\n",
    "axs[0].imshow(img_kw, 'gray')\n",
    "axs[0].set_title('Oryginał')\n",
    "axs[1].axis('off')\n",
    "axs[1].imshow(cv2.filter2D(src=img_kw, ddepth=-1, kernel=p1), 'gray')\n",
    "axs[1].set_title('P1')\n",
    "axs[2].imshow(cv2.filter2D(src=img_kw, ddepth=-1, kernel=p2), 'gray')\n",
    "axs[2].axis('off')\n",
    "axs[2].set_title('P2')\n",
    "\n",
    "fig, axs = plt.subplots(1,3)\n",
    "fig.set_size_inches(15, 8)\n",
    "axs[0].axis('off')\n",
    "axs[0].imshow(img_kw, 'gray')\n",
    "axs[0].set_title('Oryginał')\n",
    "axs[1].axis('off')\n",
    "axs[1].imshow(cv2.filter2D(src=img_kw, ddepth=-1, kernel=s1), 'gray')\n",
    "axs[1].set_title('S1')\n",
    "axs[2].imshow(cv2.filter2D(src=img_kw, ddepth=-1, kernel=s2), 'gray')\n",
    "axs[2].axis('off')\n",
    "axs[2].set_title('S2')"
   ]
  },
  {
   "cell_type": "markdown",
   "metadata": {
    "id": "56RoscNzuTVv"
   },
   "source": [
    "5. Na podstawie dwóch ortogonalnych masek np. Sobela można stworzyć tzw. filtr kombinowany - pierwiastek kwadratowy z sumy kwadratów gradientów:\n",
    "\\begin{equation}\n",
    "OW = \\sqrt{(O * S1)^2 + (O * S2)^2}\n",
    "\\end{equation}\n",
    "gdzie:  $OW$ - obraz wyjściowy, $O$ - obraz oryginalny (wejściowy), $S1,S2$ - maski Sobela, $*$ - operacja konwolucji.\n",
    "\n",
    "Zaimplementuj filtr kombinowany.\n",
    "\n",
    "Uwaga. Proszę zwrócić uwagę na konieczność zmiany formatu danych obrazu wejściowego - na typ znakiem\n",
    "\n"
   ]
  },
  {
   "cell_type": "code",
   "execution_count": null,
   "metadata": {
    "execution": {
     "iopub.execute_input": "2025-01-21T14:07:16.053462Z",
     "iopub.status.busy": "2025-01-21T14:07:16.052716Z",
     "iopub.status.idle": "2025-01-21T14:07:16.420071Z",
     "shell.execute_reply": "2025-01-21T14:07:16.420071Z",
     "shell.execute_reply.started": "2025-01-21T14:07:16.052716Z"
    },
    "id": "pobro8ZkuTVv"
   },
   "outputs": [],
   "source": [
    "def combined_sqr(img):\n",
    "    s1 = np.array([[-1, 0, 1], [-2, 0, 2], [-1, 0, 1]])\n",
    "    s1 = s1/(s1.size)\n",
    "\n",
    "    s2 = np.array([[-1, -2, -1], [0, 0, 0], [1, 2, 1]])\n",
    "    s2 = s2/(s2.size)\n",
    "    \n",
    "    S1 = abs(cv2.filter2D(src=img, ddepth=-1, kernel=s1))\n",
    "    S2 = abs(cv2.filter2D(src=img, ddepth=-1, kernel=s2))\n",
    "    \n",
    "    return np.sqrt(np.square(S1.astype(np.int32)) + np.square(S2.astype(np.int32)))\n",
    "\n",
    "fig, axs = plt.subplots(1,2)\n",
    "fig.set_size_inches(15, 8)\n",
    "axs[0].axis('off')\n",
    "axs[0].imshow(img_kw, 'gray')\n",
    "axs[0].set_title('Oryginał')\n",
    "axs[1].axis('off')\n",
    "axs[1].imshow(combined_sqr(img_kw), 'gray')\n",
    "axs[1].set_title('Filtr kombinowany')"
   ]
  },
  {
   "cell_type": "markdown",
   "metadata": {
    "id": "7dsJBZyluTVw"
   },
   "source": [
    "6. Istnieje alternatywna wersja filtra kombinowanego, która zamiast pierwiastka z sumy kwadratów wykorzystuje sumę modułów (prostsze obliczenia). \n",
    "Zaimplementuj tę wersję. "
   ]
  },
  {
   "cell_type": "code",
   "execution_count": null,
   "metadata": {
    "execution": {
     "iopub.execute_input": "2025-01-21T14:07:16.422578Z",
     "iopub.status.busy": "2025-01-21T14:07:16.422578Z",
     "iopub.status.idle": "2025-01-21T14:07:16.815685Z",
     "shell.execute_reply": "2025-01-21T14:07:16.815685Z",
     "shell.execute_reply.started": "2025-01-21T14:07:16.422578Z"
    },
    "id": "fJMIOBGnuTVw"
   },
   "outputs": [],
   "source": [
    "def combined_abs(img):\n",
    "    s1 = np.array([[-1, 0, 1], [-2, 0, 2], [-1, 0, 1]])\n",
    "    s1 = s1/(s1.size)\n",
    "\n",
    "    s2 = np.array([[-1, -2, -1], [0, 0, 0], [1, 2, 1]])\n",
    "    s2 = s2/(s2.size)\n",
    "    \n",
    "    S1 = abs(cv2.filter2D(src=img, ddepth=-1, kernel=s1))\n",
    "    S2 = abs(cv2.filter2D(src=img, ddepth=-1, kernel=s2))\n",
    "    \n",
    "    return np.sqrt(abs(S1.astype(np.int32)) + abs(S2.astype(np.int32)))\n",
    "\n",
    "fig, axs = plt.subplots(1,2)\n",
    "fig.set_size_inches(15, 8)\n",
    "axs[0].axis('off')\n",
    "axs[0].imshow(img_kw, 'gray')\n",
    "axs[0].set_title('Oryginał')\n",
    "axs[1].axis('off')\n",
    "axs[1].imshow(combined_abs(img_kw), 'gray')\n",
    "axs[1].set_title('Filtr kombinowany')"
   ]
  },
  {
   "cell_type": "markdown",
   "metadata": {
    "id": "Q-3dRwiiuTVw"
   },
   "source": [
    "7. Wczytaj plik _jet.png_ (zamiast _kw.png_).\n",
    "Sprawdź działanie obu wariantów filtracji kombinowanej."
   ]
  },
  {
   "cell_type": "code",
   "execution_count": null,
   "metadata": {
    "execution": {
     "iopub.execute_input": "2025-01-21T14:07:16.817199Z",
     "iopub.status.busy": "2025-01-21T14:07:16.817199Z",
     "iopub.status.idle": "2025-01-21T14:07:18.035788Z",
     "shell.execute_reply": "2025-01-21T14:07:18.035788Z",
     "shell.execute_reply.started": "2025-01-21T14:07:16.817199Z"
    },
    "id": "TAm2toQRuTVw",
    "pycharm": {
     "name": "#%%\n"
    }
   },
   "outputs": [],
   "source": [
    "img_jet = cv2.imread(\"jet.png\")\n",
    "img_jet = cv2.cvtColor(img_jet, cv2.COLOR_BGR2GRAY)\n",
    "\n",
    "fig, axs = plt.subplots(1,2)\n",
    "fig.set_size_inches(15, 8)\n",
    "axs[0].axis('off')\n",
    "axs[0].imshow(img_jet, 'gray')\n",
    "axs[0].set_title('Oryginał')\n",
    "axs[1].axis('off')\n",
    "axs[1].imshow(combined_sqr(img_jet), 'gray')\n",
    "axs[1].set_title('Filtr kombinowany sqr')\n",
    "\n",
    "fig, axs = plt.subplots(1,2)\n",
    "fig.set_size_inches(15, 8)\n",
    "axs[0].axis('off')\n",
    "axs[0].imshow(img_jet, 'gray')\n",
    "axs[0].set_title('Oryginał')\n",
    "axs[1].axis('off')\n",
    "axs[1].imshow(combined_abs(img_jet), 'gray')\n",
    "axs[1].set_title('Filtr kombinowany abs')"
   ]
  }
 ],
 "metadata": {
  "celltoolbar": "Raw Cell Format",
  "colab": {
   "collapsed_sections": [],
   "provenance": []
  },
  "kernelspec": {
   "display_name": "Python 3",
   "language": "python",
   "name": "python3"
  },
  "language_info": {
   "codemirror_mode": {
    "name": "ipython",
    "version": 3
   },
   "file_extension": ".py",
   "mimetype": "text/x-python",
   "name": "python",
   "nbconvert_exporter": "python",
   "pygments_lexer": "ipython3",
   "version": "3.11.1 (tags/v3.11.1:a7a450f, Dec  6 2022, 19:58:39) [MSC v.1934 64 bit (AMD64)]"
  },
  "vscode": {
   "interpreter": {
    "hash": "2b1df5c30c837e6c6307d87897e2ab565d3f2e30941b7892b564f44d6db255cd"
   }
  }
 },
 "nbformat": 4,
 "nbformat_minor": 4
}
